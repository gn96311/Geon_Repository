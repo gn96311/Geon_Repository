{
  "nbformat": 4,
  "nbformat_minor": 0,
  "metadata": {
    "colab": {
      "name": "Denoising_Program",
      "provenance": [],
      "collapsed_sections": [],
      "machine_shape": "hm",
      "mount_file_id": "17qmZSzF8UQ_V-RAe7ReOnYAkDLR23Cnq",
      "authorship_tag": "ABX9TyPfJLhvPZm0QAZgnXK7B8ab",
      "include_colab_link": true
    },
    "kernelspec": {
      "name": "python3",
      "display_name": "Python 3"
    },
    "accelerator": "TPU"
  },
  "cells": [
    {
      "cell_type": "markdown",
      "metadata": {
        "id": "view-in-github",
        "colab_type": "text"
      },
      "source": [
        "<a href=\"https://colab.research.google.com/github/gn96311/Geon_Repository/blob/master/Denoising_Program_2.ipynb\" target=\"_parent\"><img src=\"https://colab.research.google.com/assets/colab-badge.svg\" alt=\"Open In Colab\"/></a>"
      ]
    },
    {
      "cell_type": "code",
      "metadata": {
        "id": "TOvc2NYfPP3y"
      },
      "source": [
        "import tensorflow as tf\n",
        "import numpy as np\n",
        "import os, re, glob\n",
        "import time\n",
        "import cv2\n",
        "import matplotlib.pyplot as plt\n",
        "from PIL import Image, ImageMath\n",
        "from keras.preprocessing.image import load_img, array_to_img, img_to_array\n",
        "from sklearn.model_selection import train_test_split\n",
        "from glob import glob\n",
        "from tqdm import tqdm\n",
        "import IPython.display as display"
      ],
      "execution_count": 1,
      "outputs": []
    },
    {
      "cell_type": "code",
      "metadata": {
        "id": "aKSsSsUqa2Kc"
      },
      "source": [
        "tf.config.run_functions_eagerly(True)"
      ],
      "execution_count": 2,
      "outputs": []
    },
    {
      "cell_type": "code",
      "metadata": {
        "id": "kV5lcJazPqaH"
      },
      "source": [
        "Dataset_dir = os.getcwd() + '/drive/My Drive/Colab/Data'"
      ],
      "execution_count": 3,
      "outputs": []
    },
    {
      "cell_type": "markdown",
      "metadata": {
        "id": "WzXPbFl5Jsvu"
      },
      "source": [
        "# Image to Patches"
      ]
    },
    {
      "cell_type": "code",
      "metadata": {
        "id": "JHI5KyWCJz9p"
      },
      "source": [
        "def image_to_patches(img_pad, stride_x, stride_y, mini_batch_size = 32):\n",
        "    PATCH_SHAPE = (135, 135, 3)\n",
        "    H, W, C = img_pad.shape\n",
        "    batches = None\n",
        "\n",
        "    num_patches_x = (W - PATCH_SHAPE[1]) / stride_x + 1\n",
        "    num_patches_y = (H - PATCH_SHAPE[0]) / stride_y + 1\n",
        "\n",
        "    total_patches = int(num_patches_x * num_patches_y)\n",
        "    res = int(total_patches % mini_batch_size)\n",
        "\n",
        "    batches = np.zeros((total_patches, *PATCH_SHAPE))\n",
        "\n",
        "    x = y = 0\n",
        "    for n in range(total_patches):\n",
        "        patch = np.array([img_pad[y:y+PATCH_SHAPE[1], x:x+PATCH_SHAPE[0], :]])\n",
        "        assert patch.shape == (1, *PATCH_SHAPE), \"Shape mismatch, %s\" % str(patch.shape)\n",
        "\n",
        "        batches[n, :, :, :] = patch\n",
        "\n",
        "        if x + PATCH_SHAPE[1] < W:\n",
        "            x += stride_x\n",
        "\n",
        "        elif x + PATCH_SHAPE[1] >= W and y + PATCH_SHAPE[0] < H:\n",
        "            y += stride_y\n",
        "            x = 0\n",
        "\n",
        "        elif x + PATCH_SHAPE[1] >= W and y + PATCH_SHAPE[0] >= H:\n",
        "            break\n",
        "\n",
        "    if not res == 0:\n",
        "        for i in range(mini_batch_size-res):\n",
        "            batches = np.concatenate((batches, patch), axis=0)\n",
        "\n",
        "    batches = batches.reshape(-1, mini_batch_size, PATCH_SHAPE[0], PATCH_SHAPE[1], PATCH_SHAPE[2])\n",
        "\n",
        "    return batches, res"
      ],
      "execution_count": 4,
      "outputs": []
    },
    {
      "cell_type": "code",
      "metadata": {
        "id": "JOeMeDBVLllk"
      },
      "source": [
        "#img = Image.open(Dataset_dir + '/Mona.jpg')\n",
        "#img = np.asarray(img)\n",
        "#batches, res = image_to_patches(img, 135, 135)"
      ],
      "execution_count": 5,
      "outputs": []
    },
    {
      "cell_type": "markdown",
      "metadata": {
        "id": "mPgQM9LRk9xb"
      },
      "source": [
        "# Save the patches into Folder"
      ]
    },
    {
      "cell_type": "code",
      "metadata": {
        "id": "QZiK8rdzWa2G"
      },
      "source": [
        "def save_img(input_image, height, width, image_number, mode=\"Noise\"):\n",
        "    image_number = (\"{}\".format(image_number)).zfill(3)\n",
        "    figsize = (1, height/width) if height>=width else (width/height, 1)\n",
        "    plt.figure(figsize=figsize)\n",
        "    plt.imshow(input_image)\n",
        "    plt.axis('off'), plt.xticks([]), plt.yticks([])\n",
        "    plt.tight_layout()\n",
        "    plt.subplots_adjust(left = 0, bottom = 0, right = 1, top = 1, hspace = 0, wspace = 0)\n",
        "    plt.savefig('{}/{}.jpg'.format(Dataset_dir + \"/\" + mode, image_number), bbox_inces = 'tight', pad_inches = 0, dpi = height)"
      ],
      "execution_count": 6,
      "outputs": []
    },
    {
      "cell_type": "code",
      "metadata": {
        "id": "VifEMpEjVoqN"
      },
      "source": [
        "class Dataset_maker():\n",
        "    def __init__(self, img_list):\n",
        "        self.images_list = img_list\n",
        "        assert len(np.shape(self.images_list)) == 5, \"The shape of Image list is not 5D, this shape is {}\".format(len(np.shape(self.images_list)))\n",
        "        \n",
        "    def write_img(self):\n",
        "        image_number = 0\n",
        "        with tqdm(total = np.shape(self.images_list)[0] * (np.shape(self.images_list[0])[0]), desc = 'Loading') as pbar:\n",
        "            for batch_number in range(np.shape(self.images_list)[0]):\n",
        "                for images in self.images_list[batch_number]:\n",
        "                    image_number += 1\n",
        "                    clean_image = images/255.0\n",
        "                    noise_image = clean_image + tf.random.poisson(clean_image.shape, 0.5)\n",
        "                    save_img(clean_image, 135, 135, image_number, mode = 'Clean')\n",
        "                    save_img(noise_image, 135, 135, image_number, mode = 'Noise')\n",
        "                    pbar.update(1)"
      ],
      "execution_count": 7,
      "outputs": []
    },
    {
      "cell_type": "code",
      "metadata": {
        "id": "hbQ29ZkEhRGp"
      },
      "source": [
        "# dataset_make = Dataset_maker(batches)\n",
        "# dataset_make.write_img()"
      ],
      "execution_count": 8,
      "outputs": []
    },
    {
      "cell_type": "markdown",
      "metadata": {
        "id": "3oTfDSz9mdvS"
      },
      "source": [
        "# Image Show Functions"
      ]
    },
    {
      "cell_type": "code",
      "metadata": {
        "id": "E0iPjc7NQcaP"
      },
      "source": [
        "def noisy_imshow(image, ax=plt):\n",
        "    image = np.asarray(image)\n",
        "    image = (image + 0.5) / 2\n",
        "    image[image < 0] = 0\n",
        "    image[image > 1] = 1\n",
        "    h = ax.imshow(image)\n",
        "    ax.axis('off')\n",
        "    return h"
      ],
      "execution_count": 9,
      "outputs": []
    },
    {
      "cell_type": "code",
      "metadata": {
        "id": "4JWztFqCQdhX"
      },
      "source": [
        "def clean_imshow(image, ax=plt):\n",
        "    image = np.asarray(image)\n",
        "    h = ax.imshow(image)\n",
        "    ax.axis('off')\n",
        "    return h"
      ],
      "execution_count": 10,
      "outputs": []
    },
    {
      "cell_type": "code",
      "metadata": {
        "id": "DsxKOcHBQeTA",
        "outputId": "656dd7a8-86c8-4644-9078-10cfaa939787",
        "colab": {
          "base_uri": "https://localhost:8080/",
          "height": 35
        }
      },
      "source": [
        "'''\n",
        "x = train_set[0]\n",
        "fig, axes = plt.subplots(ncols=2)\n",
        "noisy_imshow(x[0], ax=axes[0])\n",
        "axes[0].set_title('Noisy')\n",
        "noisy_imshow(x[1], ax=axes[1])\n",
        "axes[1].set_title('Clean')\n",
        "print(f'image size is {x[0].shape}.')'''"
      ],
      "execution_count": 11,
      "outputs": [
        {
          "output_type": "execute_result",
          "data": {
            "application/vnd.google.colaboratory.intrinsic+json": {
              "type": "string"
            },
            "text/plain": [
              "\"\\nx = train_set[0]\\nfig, axes = plt.subplots(ncols=2)\\nnoisy_imshow(x[0], ax=axes[0])\\naxes[0].set_title('Noisy')\\nnoisy_imshow(x[1], ax=axes[1])\\naxes[1].set_title('Clean')\\nprint(f'image size is {x[0].shape}.')\""
            ]
          },
          "metadata": {
            "tags": []
          },
          "execution_count": 11
        }
      ]
    },
    {
      "cell_type": "markdown",
      "metadata": {
        "id": "2bdDIMbtmnUN"
      },
      "source": [
        "# Data Load Class"
      ]
    },
    {
      "cell_type": "code",
      "metadata": {
        "id": "Jc_0bFf-nCNe"
      },
      "source": [
        "class Data_Loader():\n",
        "    def __init__(self, root_dir, batch_size, data_mode, mode):\n",
        "        self.batch_size = batch_size\n",
        "        self.mode = mode\n",
        "        self.root_dir = root_dir\n",
        "        self.data_mode = data_mode\n",
        "\n",
        "    def return_image_RGB(self, noise_path, clean_path):\n",
        "        noise_img = tf.io.decode_image(tf.io.read_file(noise_path))\n",
        "        noise_img = tf.cast(noise_img, tf.float32) / 255.0\n",
        "        clean_img = tf.io.decode_image(tf.io.read_file(clean_path))\n",
        "        clean_img = tf.cast(clean_img,tf.float32) / 255.0\n",
        "        if self.data_mode == 'R':\n",
        "            return noise_img[:,:, 0], clean_img[:,:,0]\n",
        "        elif self.data_mode == 'G':\n",
        "            return noise_img[:,:, 1], clean_img[:,:,1]\n",
        "        elif self.data_mode == 'B':\n",
        "            return noise_img[:,:, 2], clean_img[:,:,2]\n",
        "\n",
        "    def return_test_image_RGB(self, noise_path, clean_path):\n",
        "        noise_img = tf.io.decode_image(tf.io.read_file(noise_path))\n",
        "        noise_img = tf.cast(noise_img, tf.float32) / 255.0\n",
        "        clean_img = tf.io.decode_image(tf.io.read_file(clean_path))\n",
        "        clean_img = tf.cast(clean_img,tf.float32) / 255.0\n",
        "        if self.data_mode == 'R':\n",
        "            return noise_img[:,:, 0], clean_img[:,:,0]\n",
        "        elif self.data_mode == 'G':\n",
        "            return noise_img[:,:, 1], clean_img[:,:,1]\n",
        "        elif self.data_mode == 'B':\n",
        "            return noise_img[:,:, 2], clean_img[:,:,2]\n",
        "    \n",
        "    def Make_Dataset(self):\n",
        "        xy_list = ['Noise', 'Clean']\n",
        "        if self.mode == 'train':\n",
        "            for path in xy_list:\n",
        "                if path == 'Noise':\n",
        "                    noise_dir = os.path.join(self.root_dir, self.mode, path)\n",
        "                    noise_train_path = sorted(glob(noise_dir + '/*.jpg'))\n",
        "                elif path == 'Clean':\n",
        "                    clean_dir = os.path.join(self.root_dir, self.mode, path)\n",
        "                    clean_train_path = sorted(glob(clean_dir + '/*.jpg'))\n",
        "            if self.data_mode == 'R':\n",
        "                dataset = tf.data.Dataset.from_tensor_slices((noise_train_path, clean_train_path))\n",
        "            elif self.data_mode == 'G':\n",
        "                dataset = tf.data.Dataset.from_tensor_slices((noise_train_path, clean_train_path))\n",
        "            elif self.data_mode == 'B':\n",
        "                dataset = tf.data.Dataset.from_tensor_slices((noise_train_path, clean_train_path))\n",
        "            dataset = dataset.map(self.return_image_RGB)\n",
        "            dataset = dataset.batch(self.batch_size)\n",
        "            dataset = dataset.shuffle(buffer_size = len(noise_train_path))\n",
        "\n",
        "        elif self.mode == 'test':\n",
        "            for path in xy_list:\n",
        "                if path == 'Noise':\n",
        "                    noise_dir = os.path.join(self.root_dir, self.mode, path)\n",
        "                    noise_test_path = sorted(glob(noise_dir + '/*.jpg'))\n",
        "                elif path == 'Clean':\n",
        "                    clean_dir = os.path.join(self.root_dir, self.mode, path)\n",
        "                    clean_test_path = sorted(glob(clean_dir + '/*.jpg'))\n",
        "            if self.data_mode == 'R':\n",
        "                dataset = tf.data.Dataset.from_tensor_slices((noise_test_path, clean_test_path))\n",
        "            elif self.data_mode == 'G':\n",
        "                dataset = tf.data.Dataset.from_tensor_slices((noise_test_path, clean_test_path))\n",
        "            elif self.data_mode == 'B':\n",
        "                dataset = tf.data.Dataset.from_tensor_slices((noise_test_path, clean_test_path))\n",
        "            dataset = dataset.map(self.return_test_image_RGB)\n",
        "            dataset = dataset.batch(self.batch_size)\n",
        "        \n",
        "        return dataset"
      ],
      "execution_count": 12,
      "outputs": []
    },
    {
      "cell_type": "code",
      "metadata": {
        "id": "ZkcPcPm2pfvk",
        "outputId": "98bd6679-7aad-4b11-d325-4a95318acd00",
        "colab": {
          "base_uri": "https://localhost:8080/"
        }
      },
      "source": [
        "Generate_train_ds_R = Data_Loader('/content/drive/My Drive/Colab/Data/', 4, data_mode = 'R', mode = 'train')\n",
        "Generate_train_ds_G = Data_Loader('/content/drive/My Drive/Colab/Data/', 4, data_mode = 'G', mode = 'train')\n",
        "Generate_train_ds_B = Data_Loader('/content/drive/My Drive/Colab/Data/', 4, data_mode = 'B', mode = 'train')\n",
        "data_R = Generate_train_ds_R.Make_Dataset()\n",
        "data_G = Generate_train_ds_G.Make_Dataset()\n",
        "data_B = Generate_train_ds_B.Make_Dataset()"
      ],
      "execution_count": 13,
      "outputs": [
        {
          "output_type": "stream",
          "text": [
            "/usr/local/lib/python3.6/dist-packages/tensorflow/python/data/ops/dataset_ops.py:3350: UserWarning: Even though the tf.config.experimental_run_functions_eagerly option is set, this option does not apply to tf.data functions. tf.data functions are still traced and executed as graphs.\n",
            "  \"Even though the tf.config.experimental_run_functions_eagerly \"\n"
          ],
          "name": "stderr"
        }
      ]
    },
    {
      "cell_type": "code",
      "metadata": {
        "id": "R8KKOyXjUJgm",
        "outputId": "3fd24eb8-868d-48eb-9a69-8a3b07ad245c",
        "colab": {
          "base_uri": "https://localhost:8080/"
        }
      },
      "source": [
        "Generate_test_ds_R = Data_Loader('/content/drive/My Drive/Colab/Data/', 4, data_mode = 'R', mode = 'test')\n",
        "Generate_test_ds_G = Data_Loader('/content/drive/My Drive/Colab/Data/', 4, data_mode = 'G', mode = 'test')\n",
        "Generate_test_ds_B = Data_Loader('/content/drive/My Drive/Colab/Data/', 4, data_mode = 'B', mode = 'test')\n",
        "test_data_R = Generate_test_ds_R.Make_Dataset()\n",
        "test_data_G = Generate_test_ds_G.Make_Dataset()\n",
        "test_data_B = Generate_test_ds_B.Make_Dataset()"
      ],
      "execution_count": 14,
      "outputs": [
        {
          "output_type": "stream",
          "text": [
            "/usr/local/lib/python3.6/dist-packages/tensorflow/python/data/ops/dataset_ops.py:3350: UserWarning: Even though the tf.config.experimental_run_functions_eagerly option is set, this option does not apply to tf.data functions. tf.data functions are still traced and executed as graphs.\n",
            "  \"Even though the tf.config.experimental_run_functions_eagerly \"\n"
          ],
          "name": "stderr"
        }
      ]
    },
    {
      "cell_type": "code",
      "metadata": {
        "id": "z80kmV8geoMJ",
        "outputId": "43768fb6-5374-4053-b2b0-973c909791be",
        "colab": {
          "base_uri": "https://localhost:8080/",
          "height": 287
        }
      },
      "source": [
        "nn, cc = next(iter(test_data_R))\n",
        "n1, c1 = next(iter(test_data_G))\n",
        "n2, c2 = next(iter(test_data_B))\n",
        "plt.imshow(c2[0])\n",
        "plt.imshow(tf.stack([cc[0], c1[0], c2[0]], axis = 2))"
      ],
      "execution_count": 15,
      "outputs": [
        {
          "output_type": "execute_result",
          "data": {
            "text/plain": [
              "<matplotlib.image.AxesImage at 0x7fbdb62ac2b0>"
            ]
          },
          "metadata": {
            "tags": []
          },
          "execution_count": 15
        },
        {
          "output_type": "display_data",
          "data": {
            "image/png": "[encoded data removed]",
            "text/plain": [
              "<Figure size 432x288 with 1 Axes>"
            ]
          },
          "metadata": {
            "tags": [],
            "needs_background": "light"
          }
        }
      ]
    },
    {
      "cell_type": "code",
      "metadata": {
        "id": "gVDVqOKuBh3d"
      },
      "source": [
        "#data_y[0]: noise/clean\n",
        "#data_y[0][:]: batch"
      ],
      "execution_count": 16,
      "outputs": []
    },
    {
      "cell_type": "code",
      "metadata": {
        "id": "T_SsAAkqQg-o"
      },
      "source": [
        "class input_conv_layer(tf.keras.layers.Layer):\n",
        "    def __init__(self):\n",
        "        super(input_conv_layer, self).__init__()\n",
        "        self.conv = tf.keras.layers.Conv2D(64, (3,3), padding = 'same')\n",
        "        self.bn = tf.keras.layers.BatchNormalization()\n",
        "        self.relu = tf.keras.layers.ReLU()\n",
        "        \n",
        "    def call(self, x, training=False, mask=None):\n",
        "        return self.relu(self.conv(x))"
      ],
      "execution_count": 17,
      "outputs": []
    },
    {
      "cell_type": "code",
      "metadata": {
        "id": "L1MRDYXmQmkQ"
      },
      "source": [
        "class skip_layer(tf.keras.layers.Layer):\n",
        "    def __init__(self):\n",
        "        super(skip_layer, self).__init__()\n",
        "        self.conv = tf.keras.layers.Conv2D(3, (3,3), padding = 'same')\n",
        "        self.bn = tf.keras.layers.BatchNormalization()\n",
        "        self.relu = tf.keras.layers.ReLU()\n",
        "    \n",
        "    def call(self, x, training = False, mask=None):\n",
        "        return self.relu(self.conv(x))"
      ],
      "execution_count": 18,
      "outputs": []
    },
    {
      "cell_type": "code",
      "metadata": {
        "id": "x_33sCpBQnZn"
      },
      "source": [
        "class Multi_LSTM_first(tf.keras.layers.Layer):\n",
        "    def __init__(self):\n",
        "        super(Multi_LSTM, self).__init__()\n",
        "        self.conv1 = tf.keras.layers.Conv2D(64, (1,1), padding = 'same')\n",
        "        self.conv2 = tf.keras.layers.Conv2D(32, (1,1), padding = 'same')\n",
        "        self.convlstm1 = tf.keras.layers.ConvLSTM2D(8, (1, 15), padding = 'same')\n",
        "        self.convlstm2 = tf.keras.layers.ConvLSTM2D(8, (1, 15), padding = 'same')\n",
        "        self.convlstm3 = tf.keras.layers.ConvLSTM2D(8, (1, 15), padding = 'same')\n",
        "        self.convlstm4 = tf.keras.layers.ConvLSTM2D(8, (1, 15), padding = 'same')\n",
        "        \n",
        "        \n",
        "    def call(self, x, training = False, mask = None):\n",
        "        rot_0 = self.conv2(tf.expand_dims(x, axis=1))\n",
        "        rot_90 = self.conv2(tf.expand_dims(tf.image.rot90(x, k=1), axis=1))\n",
        "        rot_180 = self.conv2(tf.expand_dims(tf.image.rot90(x, k=2), axis=1))\n",
        "        rot_270 = self.conv2(tf.expand_dims(tf.image.rot90(x, k=3), axis=1))\n",
        "        \n",
        "        convlstm1 = self.convlstm1(rot_0)\n",
        "        convlstm2 = self.convlstm2(rot_90)\n",
        "        convlstm3 = self.convlstm3(rot_180)\n",
        "        convlstm4 = self.convlstm4(rot_270)\n",
        "\n",
        "        h_concat = tf.keras.layers.concatenate([convlstm1, convlstm2, convlstm3, convlstm4], axis = -1)\n",
        "        h_concat = self.conv1(h_concat)\n",
        "\n",
        "        return h_concat"
      ],
      "execution_count": 19,
      "outputs": []
    },
    {
      "cell_type": "code",
      "metadata": {
        "id": "1IVYF6H2i1A5"
      },
      "source": [
        "class Multi_LSTM(tf.keras.layers.Layer):\n",
        "    def __init__(self):\n",
        "        super(Multi_LSTM, self).__init__()\n",
        "        self.conv1 = tf.keras.layers.Conv2D(64, (1,1), padding = 'same')\n",
        "        self.conv2 = tf.keras.layers.Conv2D(32, (1,1), padding = 'same')\n",
        "        self.flatten = tf.keras.layers.Flatten()\n",
        "    \n",
        "    def concat(self, x):\n",
        "        concat_list = []\n",
        "        for i in range(tf.shape(x)[3]):\n",
        "            flat = tf.expand_dims(self.flatten(x[:,:,:,i]), axis = 1) # 4 1 135\n",
        "            inputs = tf.shape(x)[1] * tf.shape(x)[2]\n",
        "            mini_LSTM = tf.expand_dims(tf.keras.layers.LSTM(inputs)(flat), -1) # 4 135 1\n",
        "            concat_list.append(mini_LSTM)\n",
        "        LSTM = tf.keras.layers.concatenate(concat_list, axis = -1) #4 135 135\n",
        "\n",
        "        return LSTM\n",
        "        \n",
        "    def call(self, x, training = False, mask = None):\n",
        "        h = self.conv2(x) # 4 135 135 32\n",
        "        rot_0 = (tf.expand_dims(h, axis=1))[:,:,:,:,-1] #4 1 135 135\n",
        "        rot_90 = (tf.expand_dims(tf.image.rot90(h, k=1), axis=1))[:,:,:,:,-1]\n",
        "        rot_180 = (tf.expand_dims(tf.image.rot90(h, k=2), axis=1))[:,:,:,:,-1]\n",
        "        rot_270 = (tf.expand_dims(tf.image.rot90(h, k=3), axis=1))[:,:,:,:,-1]\n",
        "\n",
        "        LSTM_0 = tf.expand_dims(self.concat(rot_0), axis = -1)\n",
        "        LSTM_90 = tf.expand_dims(self.concat(rot_90), axis = -1)\n",
        "        LSTM_180 = tf.expand_dims(self.concat(rot_180), axis = -1)\n",
        "        LSTM_270 = tf.expand_dims(self.concat(rot_270), axis = -1)\n",
        "\n",
        "        h_concat = tf.keras.layers.concatenate([LSTM_0, LSTM_90, LSTM_180, LSTM_270], axis = -1)\n",
        "        h_concat = self.conv1(h_concat)\n",
        "\n",
        "        return h_concat"
      ],
      "execution_count": 20,
      "outputs": []
    },
    {
      "cell_type": "code",
      "metadata": {
        "id": "PNqi-2n8cDcQ"
      },
      "source": [
        "class Multi_LSTM_third(tf.keras.layers.Layer):\n",
        "    def __init__(self):\n",
        "        super(Multi_LSTM, self).__init__()\n",
        "        self.conv1 = tf.keras.layers.Conv2D(64, (1,1), padding = 'same')\n",
        "        self.conv2 = tf.keras.layers.Conv2D(32, (1,1), padding = 'same')\n",
        "        self.flatten = tf.keras.layers.Flatten()\n",
        "        self.relu = tf.keras.layers.ReLU()\n",
        "    \n",
        "    def concat(self, x, K_size = 15):\n",
        "        concat_list = []\n",
        "        for column in range(0, tf.shape(x)[3], K_size * 3):\n",
        "            row_list = []\n",
        "            for row in range(0, tf.shape(x)[2]):\n",
        "                if row is 0:\n",
        "                    row_cell_1 = tf.keras.layers.LSTM(K_size)(self.relu(x[:,:,row, column : column + K_size])) # 4 1 15 -> 4 15\n",
        "                    row_cell_2 = tf.keras.layers.LSTM(K_size)(self.relu(x[:,:,row, column + K_size : column + 2 * K_size]))\n",
        "                    row_cell_3 = tf.keras.layers.LSTM(K_size)(self.relu(x[:,:,row, column + 2 * K_size : column + 3 * K_size]))\n",
        "                    row_0_cell = tf.expand_dims(tf.keras.layers.concatenate([row_cell_1, row_cell_2, row_cell_3], axis = 1), axis = 1) # 4 1 45\n",
        "                    row_list.append(row_0_cell)\n",
        "                else:\n",
        "                    before_cell = tf.keras.layers.concatenate([tf.expand_dims(row_cell_1, axis = 1),\n",
        "                                                                tf.expand_dims(row_cell_2, axis = 1),\n",
        "                                                                tf.expand_dims(row_cell_3, axis = 1)], axis = -1)\n",
        "                    conv_before_cell = tf.keras.layers.Conv1D(K_size, 3, padding = 'same')(before_cell)\n",
        "                    row_cell_1 = tf.keras.layers.LSTM(K_size)(self.relu(x[:,:,row, column : column + K_size]) + self.relu(conv_before_cell)) # 4 1 15 -> 4 15\n",
        "                    row_cell_2 = tf.keras.layers.LSTM(K_size)(self.relu(x[:,:,row, column + K_size : column + 2 * K_size]) + self.relu(conv_before_cell))\n",
        "                    row_cell_3 = tf.keras.layers.LSTM(K_size)(self.relu(x[:,:,row, column + 2 * K_size : column + 3 * K_size]) + self.relu(conv_before_cell))\n",
        "                    row_cell = tf.expand_dims(tf.keras.layers.concatenate([row_cell_1, row_cell_2, row_cell_3], axis = 1), axis = 1) # 4 1 45\n",
        "                    row_list.append(row_cell)\n",
        "            concat_row = tf.keras.layers.concatenate(row_list, axis = 1) # 4 135 45\n",
        "            concat_list.append(concat_row)\n",
        "            row_list = []\n",
        "        return_LSTM = tf.keras.layers.concatenate(concat_list, axis = 2)\n",
        "        return return_LSTM\n",
        "        \n",
        "    def call(self, x, training = False, mask = None):\n",
        "        h = self.conv2(x) # 4 135 135 32\n",
        "        rot_0 = (tf.expand_dims(h, axis=1))[:,:,:,:,-1] #4 1 135 135\n",
        "        rot_90 = (tf.expand_dims(tf.image.rot90(h, k=1), axis=1))[:,:,:,:,-1]\n",
        "        rot_180 = (tf.expand_dims(tf.image.rot90(h, k=2), axis=1))[:,:,:,:,-1]\n",
        "        rot_270 = (tf.expand_dims(tf.image.rot90(h, k=3), axis=1))[:,:,:,:,-1]\n",
        "\n",
        "        LSTM_0 = tf.expand_dims(self.concat(rot_0), axis = -1)\n",
        "        LSTM_90 = tf.expand_dims(self.concat(rot_90), axis = -1)\n",
        "        LSTM_180 = tf.expand_dims(self.concat(rot_180), axis = -1)\n",
        "        LSTM_270 = tf.expand_dims(self.concat(rot_270), axis = -1)\n",
        "\n",
        "        h_concat = tf.keras.layers.concatenate([LSTM_0, LSTM_90, LSTM_180, LSTM_270], axis = -1)\n",
        "        h_concat = self.conv1(h_concat)\n",
        "\n",
        "        return h_concat"
      ],
      "execution_count": 21,
      "outputs": []
    },
    {
      "cell_type": "code",
      "metadata": {
        "id": "9ijtz4Xs3n-p"
      },
      "source": [
        "class Multi_LSTM_forth(tf.keras.layers.Layer):\n",
        "    def __init__(self):\n",
        "        super(Multi_LSTM, self).__init__()\n",
        "        self.conv1 = tf.keras.layers.Conv2D(64, (1,1), padding = 'same')\n",
        "        self.conv2 = tf.keras.layers.Conv2D(32, (1,1), padding = 'same')\n",
        "        self.flatten = tf.keras.layers.Flatten()\n",
        "        self.relu = tf.keras.layers.ReLU()\n",
        "    \n",
        "    def concat(self, x, K_size = 45):\n",
        "        concat_list = []\n",
        "        for column in range(0, tf.shape(x)[3], K_size):\n",
        "            row_list = []\n",
        "            for row in range(0, tf.shape(x)[2]):\n",
        "                row_cell = tf.keras.layers.LSTM(K_size)(self.relu(x[:,:,row, column : column + K_size]))\n",
        "                row_list.append(row_cell)\n",
        "            concat_row = tf.stack(row_list, axis = 1) #4 135 15\n",
        "            concat_list.append(concat_row)\n",
        "        return_LSTM = tf.keras.layers.concatenate(concat_list, axis = 2)\n",
        "        return return_LSTM\n",
        "        \n",
        "    def call(self, x, training = False, mask = None):\n",
        "        h = self.conv2(x) # 4 135 135 32\n",
        "        rot_0 = (tf.expand_dims(h, axis=1))[:,:,:,:,-1] #4 1 135 135\n",
        "        rot_90 = (tf.expand_dims(tf.image.rot90(h, k=1), axis=1))[:,:,:,:,-1]\n",
        "        rot_180 = (tf.expand_dims(tf.image.rot90(h, k=2), axis=1))[:,:,:,:,-1]\n",
        "        rot_270 = (tf.expand_dims(tf.image.rot90(h, k=3), axis=1))[:,:,:,:,-1]\n",
        "\n",
        "        LSTM_0 = tf.expand_dims(self.concat(rot_0), axis = -1)\n",
        "        LSTM_90 = tf.expand_dims(self.concat(rot_90), axis = -1)\n",
        "        LSTM_180 = tf.expand_dims(self.concat(rot_180), axis = -1)\n",
        "        LSTM_270 = tf.expand_dims(self.concat(rot_270), axis = -1)\n",
        "\n",
        "        h_concat = tf.keras.layers.concatenate([LSTM_0, LSTM_90, LSTM_180, LSTM_270], axis = -1)\n",
        "        h_concat = self.conv1(h_concat)\n",
        "\n",
        "        return h_concat"
      ],
      "execution_count": 22,
      "outputs": []
    },
    {
      "cell_type": "code",
      "metadata": {
        "id": "dBIcX_FWCXts",
        "outputId": "602af7ee-f9d3-407d-d8d4-0deeeb230237",
        "colab": {
          "base_uri": "https://localhost:8080/"
        }
      },
      "source": [
        "a = tf.ones([4, 135, 135, 32])\n",
        "b = tf.image.rot90(a, k = 1)\n",
        "c = tf.image.rot90(a, k = 2)\n",
        "d = tf.image.rot90(a, k = 3)\n",
        "\n",
        "print(tf.shape(b))\n",
        "print(tf.shape(c))\n",
        "print(tf.shape(d))"
      ],
      "execution_count": 23,
      "outputs": [
        {
          "output_type": "stream",
          "text": [
            "tf.Tensor([  4 135 135  32], shape=(4,), dtype=int32)\n",
            "tf.Tensor([  4 135 135  32], shape=(4,), dtype=int32)\n",
            "tf.Tensor([  4 135 135  32], shape=(4,), dtype=int32)\n"
          ],
          "name": "stdout"
        }
      ]
    },
    {
      "cell_type": "code",
      "metadata": {
        "id": "CCQbGtF7QoTv"
      },
      "source": [
        "class DeN_Model(tf.keras.Model):\n",
        "    def __init__(self, channel = 64, DCNN_Layer = 15):\n",
        "        super(DeN_Model, self).__init__()\n",
        "        self.input_conv = [input_conv_layer() for _ in range(DCNN_Layer)]\n",
        "        self.skip = [skip_layer() for _ in range(DCNN_Layer)]\n",
        "        self.lstm_list1 = Multi_LSTM()\n",
        "        self.lstm_list2 = Multi_LSTM()\n",
        "        self.lstm_list3 = Multi_LSTM()\n",
        "        self.next_skip1 = skip_layer()\n",
        "        self.next_skip2 = skip_layer()\n",
        "        self.next_skip3 = skip_layer()\n",
        "    \n",
        "    def call(self, x, training = False, mask = None):\n",
        "        h_return = 0\n",
        "        x = tf.expand_dims(x, axis = -1)\n",
        "        for layer in range(15):\n",
        "            h = self.input_conv[layer](x, training)\n",
        "            h_skip = self.skip[layer](h, training)\n",
        "            h_skip = tf.expand_dims(h_skip[:,:,:, -1], axis = -1)\n",
        "            h_return = h_return + h_skip\n",
        "        \n",
        "        #identity_h = tf.keras.layers.ReLU(tf.identity(h))\n",
        "\n",
        "        h = self.lstm_list1(h) # 32 135 135 64\n",
        "        h_skip = self.next_skip1(h, training)\n",
        "        h_skip = tf.expand_dims(h_skip[:,:,:, -1], axis = -1)\n",
        "        h_return = h_return + h_skip\n",
        "        \n",
        "        h = self.lstm_list2(h)\n",
        "        h_skip = self.next_skip2(h, training)\n",
        "        h_skip = tf.expand_dims(h_skip[:,:,:, -1], axis = -1)\n",
        "        h_return = h_return + h_skip\n",
        "        \n",
        "        h = self.lstm_list3(h)\n",
        "        h_skip = self.next_skip3(h, training)\n",
        "        h_skip = tf.expand_dims(h_skip[:,:,:, -1], axis = -1)\n",
        "\n",
        "        h_return = h_return + h_skip\n",
        "        \n",
        "        return h_return"
      ],
      "execution_count": 24,
      "outputs": []
    },
    {
      "cell_type": "code",
      "metadata": {
        "id": "dNcjn5HebkJg"
      },
      "source": [
        "initial_learning_rate = 5*(1e-3)\n",
        "#Ir_schedule = tf.keras.optimizers.schedules.ExponentialDecay(initial_learning_rate,decay_steps = 16,decay_rate = 0.5,staircase = True)\n",
        "\n",
        "optimizer_R = tf.optimizers.Adam(initial_learning_rate)\n",
        "optimizer_G = tf.optimizers.Adam(initial_learning_rate)\n",
        "optimizer_B = tf.optimizers.Adam(initial_learning_rate)\n",
        "Model_R = DeN_Model()\n",
        "Model_G = DeN_Model()\n",
        "Model_B = DeN_Model()\n",
        "\n",
        "\n",
        "Model_R.compile(optimizer = optimizer_R, loss = 'mse')\n",
        "Model_G.compile(optimizer = optimizer_G, loss = 'mse')\n",
        "Model_B.compile(optimizer = optimizer_B, loss = 'mse')"
      ],
      "execution_count": 25,
      "outputs": []
    },
    {
      "cell_type": "code",
      "metadata": {
        "id": "zvM-bUcIzKuC",
        "outputId": "a2037d5b-e677-4f67-87da-0400cfa590c6",
        "colab": {
          "base_uri": "https://localhost:8080/"
        }
      },
      "source": [
        "Model_R.load_weights('/content/drive/My Drive/Colab/my_checkpoint/002/Red/')\n",
        "Model_G.load_weights('/content/drive/My Drive/Colab/my_checkpoint/002/Green/')\n",
        "Model_B.load_weights('/content/drive/My Drive/Colab/my_checkpoint/002/Blue/')"
      ],
      "execution_count": 26,
      "outputs": [
        {
          "output_type": "execute_result",
          "data": {
            "text/plain": [
              "<tensorflow.python.training.tracking.util.CheckpointLoadStatus at 0x7fbdb421ecf8>"
            ]
          },
          "metadata": {
            "tags": []
          },
          "execution_count": 26
        }
      ]
    },
    {
      "cell_type": "code",
      "metadata": {
        "id": "yGwE7rHa1uOP"
      },
      "source": [
        "R_checkpoint_path = '/content/drive/My Drive/Colab/my_checkpoint/002/Red/'\n",
        "G_checkpoint_path = '/content/drive/My Drive/Colab/my_checkpoint/002/Green/'\n",
        "B_checkpoint_path = '/content/drive/My Drive/Colab/my_checkpoint/002/Blue/'\n",
        "\n",
        "R_checkpoint_dir = os.path.dirname(R_checkpoint_path)\n",
        "G_checkpoint_dir = os.path.dirname(G_checkpoint_path)\n",
        "B_checkpoint_dir = os.path.dirname(B_checkpoint_path)\n",
        "\n",
        "R_callback = tf.keras.callbacks.ModelCheckpoint(\n",
        "    filepath = R_checkpoint_path,\n",
        "    verbose = 1,\n",
        "    save_weights_only = True,\n",
        "    save_freq = 16)\n",
        "\n",
        "G_callback = tf.keras.callbacks.ModelCheckpoint(\n",
        "    filepath = G_checkpoint_path,\n",
        "    verbose = 1,\n",
        "    save_weights_only = True,\n",
        "    save_freq = 16)\n",
        "\n",
        "B_callback = tf.keras.callbacks.ModelCheckpoint(\n",
        "    filepath = B_checkpoint_path,\n",
        "    verbose = 1,\n",
        "    save_weights_only = True,\n",
        "    save_freq = 16)"
      ],
      "execution_count": 27,
      "outputs": []
    },
    {
      "cell_type": "code",
      "metadata": {
        "id": "JPIHMDENcIeJ",
        "outputId": "923e8460-6783-4510-e071-67144422aadc",
        "colab": {
          "base_uri": "https://localhost:8080/",
          "height": 1000
        }
      },
      "source": [
        "Model_R.fit(data_R, steps_per_epoch=16, epochs = 10, callbacks = [R_callback])\n",
        "Model_G.fit(data_G, steps_per_epoch=16, epochs = 10, callbacks = [G_callback])\n",
        "Model_B.fit(data_B, steps_per_epoch=16, epochs = 10, callbacks = [B_callback])"
      ],
      "execution_count": 28,
      "outputs": [
        {
          "output_type": "stream",
          "text": [
            "Epoch 1/10\n",
            "15/16 [===========================>..] - ETA: 29s - loss: 0.0697\n",
            "Epoch 00001: saving model to /content/drive/My Drive/Colab/my_checkpoint/002/Red/\n",
            "16/16 [==============================] - 473s 30s/step - loss: 0.0666\n",
            "Epoch 2/10\n",
            "15/16 [===========================>..] - ETA: 31s - loss: 0.1080 \n",
            "Epoch 00002: saving model to /content/drive/My Drive/Colab/my_checkpoint/002/Red/\n",
            "16/16 [==============================] - 499s 31s/step - loss: 0.1024\n",
            "Epoch 3/10\n",
            "15/16 [===========================>..] - ETA: 29s - loss: 0.0276\n",
            "Epoch 00003: saving model to /content/drive/My Drive/Colab/my_checkpoint/002/Red/\n",
            "16/16 [==============================] - 482s 30s/step - loss: 0.0272\n",
            "Epoch 4/10\n",
            "15/16 [===========================>..] - ETA: 30s - loss: 0.0155\n",
            "Epoch 00004: saving model to /content/drive/My Drive/Colab/my_checkpoint/002/Red/\n",
            "16/16 [==============================] - 484s 30s/step - loss: 0.0153\n",
            "Epoch 5/10\n",
            "15/16 [===========================>..] - ETA: 29s - loss: 0.1705\n",
            "Epoch 00005: saving model to /content/drive/My Drive/Colab/my_checkpoint/002/Red/\n",
            "16/16 [==============================] - 477s 30s/step - loss: 0.1698\n",
            "Epoch 6/10\n",
            "15/16 [===========================>..] - ETA: 29s - loss: 0.1510\n",
            "Epoch 00006: saving model to /content/drive/My Drive/Colab/my_checkpoint/002/Red/\n",
            "16/16 [==============================] - 476s 30s/step - loss: 0.1426\n",
            "Epoch 7/10\n",
            "15/16 [===========================>..] - ETA: 30s - loss: 0.0805 \n",
            "Epoch 00007: saving model to /content/drive/My Drive/Colab/my_checkpoint/002/Red/\n",
            "16/16 [==============================] - 489s 31s/step - loss: 0.0891\n",
            "Epoch 8/10\n",
            "15/16 [===========================>..] - ETA: 29s - loss: 0.0834\n",
            "Epoch 00008: saving model to /content/drive/My Drive/Colab/my_checkpoint/002/Red/\n",
            "16/16 [==============================] - 470s 29s/step - loss: 0.0805\n",
            "Epoch 9/10\n",
            "15/16 [===========================>..] - ETA: 29s - loss: 0.0609\n",
            "Epoch 00009: saving model to /content/drive/My Drive/Colab/my_checkpoint/002/Red/\n",
            "16/16 [==============================] - 480s 30s/step - loss: 0.0626\n",
            "Epoch 10/10\n",
            "15/16 [===========================>..] - ETA: 30s - loss: 0.0532 \n",
            "Epoch 00010: saving model to /content/drive/My Drive/Colab/my_checkpoint/002/Red/\n",
            "16/16 [==============================] - 486s 30s/step - loss: 0.0651\n",
            "Epoch 1/10\n",
            "15/16 [===========================>..] - ETA: 28s - loss: 0.3073\n",
            "Epoch 00001: saving model to /content/drive/My Drive/Colab/my_checkpoint/002/Green/\n",
            "16/16 [==============================] - 463s 29s/step - loss: 0.3017\n",
            "Epoch 2/10\n",
            "15/16 [===========================>..] - ETA: 27s - loss: 0.0495\n",
            "Epoch 00002: saving model to /content/drive/My Drive/Colab/my_checkpoint/002/Green/\n",
            "16/16 [==============================] - 450s 28s/step - loss: 0.0482\n",
            "Epoch 3/10\n",
            "15/16 [===========================>..] - ETA: 27s - loss: 0.0285\n",
            "Epoch 00003: saving model to /content/drive/My Drive/Colab/my_checkpoint/002/Green/\n",
            "16/16 [==============================] - 447s 28s/step - loss: 0.0285\n",
            "Epoch 4/10\n",
            " 4/16 [======>.......................] - ETA: 4:44 - loss: 0.0190"
          ],
          "name": "stdout"
        },
        {
          "output_type": "error",
          "ename": "KeyboardInterrupt",
          "evalue": "ignored",
          "traceback": [
            "\u001b[0;31m---------------------------------------------------------------------------\u001b[0m",
            "\u001b[0;31mKeyboardInterrupt\u001b[0m                         Traceback (most recent call last)",
            "\u001b[0;32m<ipython-input-28-13b78853b7c7>\u001b[0m in \u001b[0;36m<module>\u001b[0;34m()\u001b[0m\n\u001b[1;32m      1\u001b[0m \u001b[0mModel_R\u001b[0m\u001b[0;34m.\u001b[0m\u001b[0mfit\u001b[0m\u001b[0;34m(\u001b[0m\u001b[0mdata_R\u001b[0m\u001b[0;34m,\u001b[0m \u001b[0msteps_per_epoch\u001b[0m\u001b[0;34m=\u001b[0m\u001b[0;36m16\u001b[0m\u001b[0;34m,\u001b[0m \u001b[0mepochs\u001b[0m \u001b[0;34m=\u001b[0m \u001b[0;36m10\u001b[0m\u001b[0;34m,\u001b[0m \u001b[0mcallbacks\u001b[0m \u001b[0;34m=\u001b[0m \u001b[0;34m[\u001b[0m\u001b[0mR_callback\u001b[0m\u001b[0;34m]\u001b[0m\u001b[0;34m)\u001b[0m\u001b[0;34m\u001b[0m\u001b[0;34m\u001b[0m\u001b[0m\n\u001b[0;32m----> 2\u001b[0;31m \u001b[0mModel_G\u001b[0m\u001b[0;34m.\u001b[0m\u001b[0mfit\u001b[0m\u001b[0;34m(\u001b[0m\u001b[0mdata_G\u001b[0m\u001b[0;34m,\u001b[0m \u001b[0msteps_per_epoch\u001b[0m\u001b[0;34m=\u001b[0m\u001b[0;36m16\u001b[0m\u001b[0;34m,\u001b[0m \u001b[0mepochs\u001b[0m \u001b[0;34m=\u001b[0m \u001b[0;36m10\u001b[0m\u001b[0;34m,\u001b[0m \u001b[0mcallbacks\u001b[0m \u001b[0;34m=\u001b[0m \u001b[0;34m[\u001b[0m\u001b[0mG_callback\u001b[0m\u001b[0;34m]\u001b[0m\u001b[0;34m)\u001b[0m\u001b[0;34m\u001b[0m\u001b[0;34m\u001b[0m\u001b[0m\n\u001b[0m\u001b[1;32m      3\u001b[0m \u001b[0mModel_B\u001b[0m\u001b[0;34m.\u001b[0m\u001b[0mfit\u001b[0m\u001b[0;34m(\u001b[0m\u001b[0mdata_B\u001b[0m\u001b[0;34m,\u001b[0m \u001b[0msteps_per_epoch\u001b[0m\u001b[0;34m=\u001b[0m\u001b[0;36m16\u001b[0m\u001b[0;34m,\u001b[0m \u001b[0mepochs\u001b[0m \u001b[0;34m=\u001b[0m \u001b[0;36m10\u001b[0m\u001b[0;34m,\u001b[0m \u001b[0mcallbacks\u001b[0m \u001b[0;34m=\u001b[0m \u001b[0;34m[\u001b[0m\u001b[0mB_callback\u001b[0m\u001b[0;34m]\u001b[0m\u001b[0;34m)\u001b[0m\u001b[0;34m\u001b[0m\u001b[0;34m\u001b[0m\u001b[0m\n",
            "\u001b[0;32m/usr/local/lib/python3.6/dist-packages/tensorflow/python/keras/engine/training.py\u001b[0m in \u001b[0;36m_method_wrapper\u001b[0;34m(self, *args, **kwargs)\u001b[0m\n\u001b[1;32m    106\u001b[0m   \u001b[0;32mdef\u001b[0m \u001b[0m_method_wrapper\u001b[0m\u001b[0;34m(\u001b[0m\u001b[0mself\u001b[0m\u001b[0;34m,\u001b[0m \u001b[0;34m*\u001b[0m\u001b[0margs\u001b[0m\u001b[0;34m,\u001b[0m \u001b[0;34m**\u001b[0m\u001b[0mkwargs\u001b[0m\u001b[0;34m)\u001b[0m\u001b[0;34m:\u001b[0m\u001b[0;34m\u001b[0m\u001b[0;34m\u001b[0m\u001b[0m\n\u001b[1;32m    107\u001b[0m     \u001b[0;32mif\u001b[0m \u001b[0;32mnot\u001b[0m \u001b[0mself\u001b[0m\u001b[0;34m.\u001b[0m\u001b[0m_in_multi_worker_mode\u001b[0m\u001b[0;34m(\u001b[0m\u001b[0;34m)\u001b[0m\u001b[0;34m:\u001b[0m  \u001b[0;31m# pylint: disable=protected-access\u001b[0m\u001b[0;34m\u001b[0m\u001b[0;34m\u001b[0m\u001b[0m\n\u001b[0;32m--> 108\u001b[0;31m       \u001b[0;32mreturn\u001b[0m \u001b[0mmethod\u001b[0m\u001b[0;34m(\u001b[0m\u001b[0mself\u001b[0m\u001b[0;34m,\u001b[0m \u001b[0;34m*\u001b[0m\u001b[0margs\u001b[0m\u001b[0;34m,\u001b[0m \u001b[0;34m**\u001b[0m\u001b[0mkwargs\u001b[0m\u001b[0;34m)\u001b[0m\u001b[0;34m\u001b[0m\u001b[0;34m\u001b[0m\u001b[0m\n\u001b[0m\u001b[1;32m    109\u001b[0m \u001b[0;34m\u001b[0m\u001b[0m\n\u001b[1;32m    110\u001b[0m     \u001b[0;31m# Running inside `run_distribute_coordinator` already.\u001b[0m\u001b[0;34m\u001b[0m\u001b[0;34m\u001b[0m\u001b[0;34m\u001b[0m\u001b[0m\n",
            "\u001b[0;32m/usr/local/lib/python3.6/dist-packages/tensorflow/python/keras/engine/training.py\u001b[0m in \u001b[0;36mfit\u001b[0;34m(self, x, y, batch_size, epochs, verbose, callbacks, validation_split, validation_data, shuffle, class_weight, sample_weight, initial_epoch, steps_per_epoch, validation_steps, validation_batch_size, validation_freq, max_queue_size, workers, use_multiprocessing)\u001b[0m\n\u001b[1;32m   1096\u001b[0m                 batch_size=batch_size):\n\u001b[1;32m   1097\u001b[0m               \u001b[0mcallbacks\u001b[0m\u001b[0;34m.\u001b[0m\u001b[0mon_train_batch_begin\u001b[0m\u001b[0;34m(\u001b[0m\u001b[0mstep\u001b[0m\u001b[0;34m)\u001b[0m\u001b[0;34m\u001b[0m\u001b[0;34m\u001b[0m\u001b[0m\n\u001b[0;32m-> 1098\u001b[0;31m               \u001b[0mtmp_logs\u001b[0m \u001b[0;34m=\u001b[0m \u001b[0mtrain_function\u001b[0m\u001b[0;34m(\u001b[0m\u001b[0miterator\u001b[0m\u001b[0;34m)\u001b[0m\u001b[0;34m\u001b[0m\u001b[0;34m\u001b[0m\u001b[0m\n\u001b[0m\u001b[1;32m   1099\u001b[0m               \u001b[0;32mif\u001b[0m \u001b[0mdata_handler\u001b[0m\u001b[0;34m.\u001b[0m\u001b[0mshould_sync\u001b[0m\u001b[0;34m:\u001b[0m\u001b[0;34m\u001b[0m\u001b[0;34m\u001b[0m\u001b[0m\n\u001b[1;32m   1100\u001b[0m                 \u001b[0mcontext\u001b[0m\u001b[0;34m.\u001b[0m\u001b[0masync_wait\u001b[0m\u001b[0;34m(\u001b[0m\u001b[0;34m)\u001b[0m\u001b[0;34m\u001b[0m\u001b[0;34m\u001b[0m\u001b[0m\n",
            "\u001b[0;32m/usr/local/lib/python3.6/dist-packages/tensorflow/python/keras/engine/training.py\u001b[0m in \u001b[0;36mtrain_function\u001b[0;34m(iterator)\u001b[0m\n\u001b[1;32m    804\u001b[0m       \u001b[0;32mdef\u001b[0m \u001b[0mtrain_function\u001b[0m\u001b[0;34m(\u001b[0m\u001b[0miterator\u001b[0m\u001b[0;34m)\u001b[0m\u001b[0;34m:\u001b[0m\u001b[0;34m\u001b[0m\u001b[0;34m\u001b[0m\u001b[0m\n\u001b[1;32m    805\u001b[0m         \u001b[0;34m\"\"\"Runs a training execution with one step.\"\"\"\u001b[0m\u001b[0;34m\u001b[0m\u001b[0;34m\u001b[0m\u001b[0m\n\u001b[0;32m--> 806\u001b[0;31m         \u001b[0;32mreturn\u001b[0m \u001b[0mstep_function\u001b[0m\u001b[0;34m(\u001b[0m\u001b[0mself\u001b[0m\u001b[0;34m,\u001b[0m \u001b[0miterator\u001b[0m\u001b[0;34m)\u001b[0m\u001b[0;34m\u001b[0m\u001b[0;34m\u001b[0m\u001b[0m\n\u001b[0m\u001b[1;32m    807\u001b[0m \u001b[0;34m\u001b[0m\u001b[0m\n\u001b[1;32m    808\u001b[0m     \u001b[0;32melse\u001b[0m\u001b[0;34m:\u001b[0m\u001b[0;34m\u001b[0m\u001b[0;34m\u001b[0m\u001b[0m\n",
            "\u001b[0;32m/usr/local/lib/python3.6/dist-packages/tensorflow/python/keras/engine/training.py\u001b[0m in \u001b[0;36mstep_function\u001b[0;34m(model, iterator)\u001b[0m\n\u001b[1;32m    794\u001b[0m \u001b[0;34m\u001b[0m\u001b[0m\n\u001b[1;32m    795\u001b[0m       \u001b[0mdata\u001b[0m \u001b[0;34m=\u001b[0m \u001b[0mnext\u001b[0m\u001b[0;34m(\u001b[0m\u001b[0miterator\u001b[0m\u001b[0;34m)\u001b[0m\u001b[0;34m\u001b[0m\u001b[0;34m\u001b[0m\u001b[0m\n\u001b[0;32m--> 796\u001b[0;31m       \u001b[0moutputs\u001b[0m \u001b[0;34m=\u001b[0m \u001b[0mmodel\u001b[0m\u001b[0;34m.\u001b[0m\u001b[0mdistribute_strategy\u001b[0m\u001b[0;34m.\u001b[0m\u001b[0mrun\u001b[0m\u001b[0;34m(\u001b[0m\u001b[0mrun_step\u001b[0m\u001b[0;34m,\u001b[0m \u001b[0margs\u001b[0m\u001b[0;34m=\u001b[0m\u001b[0;34m(\u001b[0m\u001b[0mdata\u001b[0m\u001b[0;34m,\u001b[0m\u001b[0;34m)\u001b[0m\u001b[0;34m)\u001b[0m\u001b[0;34m\u001b[0m\u001b[0;34m\u001b[0m\u001b[0m\n\u001b[0m\u001b[1;32m    797\u001b[0m       outputs = reduce_per_replica(\n\u001b[1;32m    798\u001b[0m           outputs, self.distribute_strategy, reduction='first')\n",
            "\u001b[0;32m/usr/local/lib/python3.6/dist-packages/tensorflow/python/distribute/distribute_lib.py\u001b[0m in \u001b[0;36mrun\u001b[0;34m(***failed resolving arguments***)\u001b[0m\n\u001b[1;32m   1209\u001b[0m       fn = autograph.tf_convert(\n\u001b[1;32m   1210\u001b[0m           fn, autograph_ctx.control_status_ctx(), convert_by_default=False)\n\u001b[0;32m-> 1211\u001b[0;31m       \u001b[0;32mreturn\u001b[0m \u001b[0mself\u001b[0m\u001b[0;34m.\u001b[0m\u001b[0m_extended\u001b[0m\u001b[0;34m.\u001b[0m\u001b[0mcall_for_each_replica\u001b[0m\u001b[0;34m(\u001b[0m\u001b[0mfn\u001b[0m\u001b[0;34m,\u001b[0m \u001b[0margs\u001b[0m\u001b[0;34m=\u001b[0m\u001b[0margs\u001b[0m\u001b[0;34m,\u001b[0m \u001b[0mkwargs\u001b[0m\u001b[0;34m=\u001b[0m\u001b[0mkwargs\u001b[0m\u001b[0;34m)\u001b[0m\u001b[0;34m\u001b[0m\u001b[0;34m\u001b[0m\u001b[0m\n\u001b[0m\u001b[1;32m   1212\u001b[0m \u001b[0;34m\u001b[0m\u001b[0m\n\u001b[1;32m   1213\u001b[0m   \u001b[0;31m# TODO(b/151224785): Remove deprecated alias.\u001b[0m\u001b[0;34m\u001b[0m\u001b[0;34m\u001b[0m\u001b[0;34m\u001b[0m\u001b[0m\n",
            "\u001b[0;32m/usr/local/lib/python3.6/dist-packages/tensorflow/python/distribute/distribute_lib.py\u001b[0m in \u001b[0;36mcall_for_each_replica\u001b[0;34m(self, fn, args, kwargs)\u001b[0m\n\u001b[1;32m   2583\u001b[0m       \u001b[0mkwargs\u001b[0m \u001b[0;34m=\u001b[0m \u001b[0;34m{\u001b[0m\u001b[0;34m}\u001b[0m\u001b[0;34m\u001b[0m\u001b[0;34m\u001b[0m\u001b[0m\n\u001b[1;32m   2584\u001b[0m     \u001b[0;32mwith\u001b[0m \u001b[0mself\u001b[0m\u001b[0;34m.\u001b[0m\u001b[0m_container_strategy\u001b[0m\u001b[0;34m(\u001b[0m\u001b[0;34m)\u001b[0m\u001b[0;34m.\u001b[0m\u001b[0mscope\u001b[0m\u001b[0;34m(\u001b[0m\u001b[0;34m)\u001b[0m\u001b[0;34m:\u001b[0m\u001b[0;34m\u001b[0m\u001b[0;34m\u001b[0m\u001b[0m\n\u001b[0;32m-> 2585\u001b[0;31m       \u001b[0;32mreturn\u001b[0m \u001b[0mself\u001b[0m\u001b[0;34m.\u001b[0m\u001b[0m_call_for_each_replica\u001b[0m\u001b[0;34m(\u001b[0m\u001b[0mfn\u001b[0m\u001b[0;34m,\u001b[0m \u001b[0margs\u001b[0m\u001b[0;34m,\u001b[0m \u001b[0mkwargs\u001b[0m\u001b[0;34m)\u001b[0m\u001b[0;34m\u001b[0m\u001b[0;34m\u001b[0m\u001b[0m\n\u001b[0m\u001b[1;32m   2586\u001b[0m \u001b[0;34m\u001b[0m\u001b[0m\n\u001b[1;32m   2587\u001b[0m   \u001b[0;32mdef\u001b[0m \u001b[0m_call_for_each_replica\u001b[0m\u001b[0;34m(\u001b[0m\u001b[0mself\u001b[0m\u001b[0;34m,\u001b[0m \u001b[0mfn\u001b[0m\u001b[0;34m,\u001b[0m \u001b[0margs\u001b[0m\u001b[0;34m,\u001b[0m \u001b[0mkwargs\u001b[0m\u001b[0;34m)\u001b[0m\u001b[0;34m:\u001b[0m\u001b[0;34m\u001b[0m\u001b[0;34m\u001b[0m\u001b[0m\n",
            "\u001b[0;32m/usr/local/lib/python3.6/dist-packages/tensorflow/python/distribute/distribute_lib.py\u001b[0m in \u001b[0;36m_call_for_each_replica\u001b[0;34m(self, fn, args, kwargs)\u001b[0m\n\u001b[1;32m   2943\u001b[0m         \u001b[0mself\u001b[0m\u001b[0;34m.\u001b[0m\u001b[0m_container_strategy\u001b[0m\u001b[0;34m(\u001b[0m\u001b[0;34m)\u001b[0m\u001b[0;34m,\u001b[0m\u001b[0;34m\u001b[0m\u001b[0;34m\u001b[0m\u001b[0m\n\u001b[1;32m   2944\u001b[0m         replica_id_in_sync_group=constant_op.constant(0, dtypes.int32)):\n\u001b[0;32m-> 2945\u001b[0;31m       \u001b[0;32mreturn\u001b[0m \u001b[0mfn\u001b[0m\u001b[0;34m(\u001b[0m\u001b[0;34m*\u001b[0m\u001b[0margs\u001b[0m\u001b[0;34m,\u001b[0m \u001b[0;34m**\u001b[0m\u001b[0mkwargs\u001b[0m\u001b[0;34m)\u001b[0m\u001b[0;34m\u001b[0m\u001b[0;34m\u001b[0m\u001b[0m\n\u001b[0m\u001b[1;32m   2946\u001b[0m \u001b[0;34m\u001b[0m\u001b[0m\n\u001b[1;32m   2947\u001b[0m   \u001b[0;32mdef\u001b[0m \u001b[0m_reduce_to\u001b[0m\u001b[0;34m(\u001b[0m\u001b[0mself\u001b[0m\u001b[0;34m,\u001b[0m \u001b[0mreduce_op\u001b[0m\u001b[0;34m,\u001b[0m \u001b[0mvalue\u001b[0m\u001b[0;34m,\u001b[0m \u001b[0mdestinations\u001b[0m\u001b[0;34m,\u001b[0m \u001b[0mexperimental_hints\u001b[0m\u001b[0;34m)\u001b[0m\u001b[0;34m:\u001b[0m\u001b[0;34m\u001b[0m\u001b[0;34m\u001b[0m\u001b[0m\n",
            "\u001b[0;32m/usr/local/lib/python3.6/dist-packages/tensorflow/python/autograph/impl/api.py\u001b[0m in \u001b[0;36mwrapper\u001b[0;34m(*args, **kwargs)\u001b[0m\n\u001b[1;32m    273\u001b[0m   \u001b[0;32mdef\u001b[0m \u001b[0mwrapper\u001b[0m\u001b[0;34m(\u001b[0m\u001b[0;34m*\u001b[0m\u001b[0margs\u001b[0m\u001b[0;34m,\u001b[0m \u001b[0;34m**\u001b[0m\u001b[0mkwargs\u001b[0m\u001b[0;34m)\u001b[0m\u001b[0;34m:\u001b[0m\u001b[0;34m\u001b[0m\u001b[0;34m\u001b[0m\u001b[0m\n\u001b[1;32m    274\u001b[0m     \u001b[0;32mwith\u001b[0m \u001b[0mag_ctx\u001b[0m\u001b[0;34m.\u001b[0m\u001b[0mControlStatusCtx\u001b[0m\u001b[0;34m(\u001b[0m\u001b[0mstatus\u001b[0m\u001b[0;34m=\u001b[0m\u001b[0mag_ctx\u001b[0m\u001b[0;34m.\u001b[0m\u001b[0mStatus\u001b[0m\u001b[0;34m.\u001b[0m\u001b[0mUNSPECIFIED\u001b[0m\u001b[0;34m)\u001b[0m\u001b[0;34m:\u001b[0m\u001b[0;34m\u001b[0m\u001b[0;34m\u001b[0m\u001b[0m\n\u001b[0;32m--> 275\u001b[0;31m       \u001b[0;32mreturn\u001b[0m \u001b[0mfunc\u001b[0m\u001b[0;34m(\u001b[0m\u001b[0;34m*\u001b[0m\u001b[0margs\u001b[0m\u001b[0;34m,\u001b[0m \u001b[0;34m**\u001b[0m\u001b[0mkwargs\u001b[0m\u001b[0;34m)\u001b[0m\u001b[0;34m\u001b[0m\u001b[0;34m\u001b[0m\u001b[0m\n\u001b[0m\u001b[1;32m    276\u001b[0m \u001b[0;34m\u001b[0m\u001b[0m\n\u001b[1;32m    277\u001b[0m   \u001b[0;32mif\u001b[0m \u001b[0minspect\u001b[0m\u001b[0;34m.\u001b[0m\u001b[0misfunction\u001b[0m\u001b[0;34m(\u001b[0m\u001b[0mfunc\u001b[0m\u001b[0;34m)\u001b[0m \u001b[0;32mor\u001b[0m \u001b[0minspect\u001b[0m\u001b[0;34m.\u001b[0m\u001b[0mismethod\u001b[0m\u001b[0;34m(\u001b[0m\u001b[0mfunc\u001b[0m\u001b[0;34m)\u001b[0m\u001b[0;34m:\u001b[0m\u001b[0;34m\u001b[0m\u001b[0;34m\u001b[0m\u001b[0m\n",
            "\u001b[0;32m/usr/local/lib/python3.6/dist-packages/tensorflow/python/keras/engine/training.py\u001b[0m in \u001b[0;36mrun_step\u001b[0;34m(data)\u001b[0m\n\u001b[1;32m    787\u001b[0m \u001b[0;34m\u001b[0m\u001b[0m\n\u001b[1;32m    788\u001b[0m       \u001b[0;32mdef\u001b[0m \u001b[0mrun_step\u001b[0m\u001b[0;34m(\u001b[0m\u001b[0mdata\u001b[0m\u001b[0;34m)\u001b[0m\u001b[0;34m:\u001b[0m\u001b[0;34m\u001b[0m\u001b[0;34m\u001b[0m\u001b[0m\n\u001b[0;32m--> 789\u001b[0;31m         \u001b[0moutputs\u001b[0m \u001b[0;34m=\u001b[0m \u001b[0mmodel\u001b[0m\u001b[0;34m.\u001b[0m\u001b[0mtrain_step\u001b[0m\u001b[0;34m(\u001b[0m\u001b[0mdata\u001b[0m\u001b[0;34m)\u001b[0m\u001b[0;34m\u001b[0m\u001b[0;34m\u001b[0m\u001b[0m\n\u001b[0m\u001b[1;32m    790\u001b[0m         \u001b[0;31m# Ensure counter is updated only if `train_step` succeeds.\u001b[0m\u001b[0;34m\u001b[0m\u001b[0;34m\u001b[0m\u001b[0;34m\u001b[0m\u001b[0m\n\u001b[1;32m    791\u001b[0m         \u001b[0;32mwith\u001b[0m \u001b[0mops\u001b[0m\u001b[0;34m.\u001b[0m\u001b[0mcontrol_dependencies\u001b[0m\u001b[0;34m(\u001b[0m\u001b[0m_minimum_control_deps\u001b[0m\u001b[0;34m(\u001b[0m\u001b[0moutputs\u001b[0m\u001b[0;34m)\u001b[0m\u001b[0;34m)\u001b[0m\u001b[0;34m:\u001b[0m\u001b[0;34m\u001b[0m\u001b[0;34m\u001b[0m\u001b[0m\n",
            "\u001b[0;32m/usr/local/lib/python3.6/dist-packages/tensorflow/python/keras/engine/training.py\u001b[0m in \u001b[0;36mtrain_step\u001b[0;34m(self, data)\u001b[0m\n\u001b[1;32m    745\u001b[0m \u001b[0;34m\u001b[0m\u001b[0m\n\u001b[1;32m    746\u001b[0m     \u001b[0;32mwith\u001b[0m \u001b[0mbackprop\u001b[0m\u001b[0;34m.\u001b[0m\u001b[0mGradientTape\u001b[0m\u001b[0;34m(\u001b[0m\u001b[0;34m)\u001b[0m \u001b[0;32mas\u001b[0m \u001b[0mtape\u001b[0m\u001b[0;34m:\u001b[0m\u001b[0;34m\u001b[0m\u001b[0;34m\u001b[0m\u001b[0m\n\u001b[0;32m--> 747\u001b[0;31m       \u001b[0my_pred\u001b[0m \u001b[0;34m=\u001b[0m \u001b[0mself\u001b[0m\u001b[0;34m(\u001b[0m\u001b[0mx\u001b[0m\u001b[0;34m,\u001b[0m \u001b[0mtraining\u001b[0m\u001b[0;34m=\u001b[0m\u001b[0;32mTrue\u001b[0m\u001b[0;34m)\u001b[0m\u001b[0;34m\u001b[0m\u001b[0;34m\u001b[0m\u001b[0m\n\u001b[0m\u001b[1;32m    748\u001b[0m       loss = self.compiled_loss(\n\u001b[1;32m    749\u001b[0m           y, y_pred, sample_weight, regularization_losses=self.losses)\n",
            "\u001b[0;32m/usr/local/lib/python3.6/dist-packages/tensorflow/python/keras/engine/base_layer.py\u001b[0m in \u001b[0;36m__call__\u001b[0;34m(self, *args, **kwargs)\u001b[0m\n\u001b[1;32m    983\u001b[0m \u001b[0;34m\u001b[0m\u001b[0m\n\u001b[1;32m    984\u001b[0m         \u001b[0;32mwith\u001b[0m \u001b[0mops\u001b[0m\u001b[0;34m.\u001b[0m\u001b[0menable_auto_cast_variables\u001b[0m\u001b[0;34m(\u001b[0m\u001b[0mself\u001b[0m\u001b[0;34m.\u001b[0m\u001b[0m_compute_dtype_object\u001b[0m\u001b[0;34m)\u001b[0m\u001b[0;34m:\u001b[0m\u001b[0;34m\u001b[0m\u001b[0;34m\u001b[0m\u001b[0m\n\u001b[0;32m--> 985\u001b[0;31m           \u001b[0moutputs\u001b[0m \u001b[0;34m=\u001b[0m \u001b[0mcall_fn\u001b[0m\u001b[0;34m(\u001b[0m\u001b[0minputs\u001b[0m\u001b[0;34m,\u001b[0m \u001b[0;34m*\u001b[0m\u001b[0margs\u001b[0m\u001b[0;34m,\u001b[0m \u001b[0;34m**\u001b[0m\u001b[0mkwargs\u001b[0m\u001b[0;34m)\u001b[0m\u001b[0;34m\u001b[0m\u001b[0;34m\u001b[0m\u001b[0m\n\u001b[0m\u001b[1;32m    986\u001b[0m \u001b[0;34m\u001b[0m\u001b[0m\n\u001b[1;32m    987\u001b[0m         \u001b[0;32mif\u001b[0m \u001b[0mself\u001b[0m\u001b[0;34m.\u001b[0m\u001b[0m_activity_regularizer\u001b[0m\u001b[0;34m:\u001b[0m\u001b[0;34m\u001b[0m\u001b[0;34m\u001b[0m\u001b[0m\n",
            "\u001b[0;32m<ipython-input-24-68b0d23fa6e8>\u001b[0m in \u001b[0;36mcall\u001b[0;34m(self, x, training, mask)\u001b[0m\n\u001b[1;32m     27\u001b[0m         \u001b[0mh_return\u001b[0m \u001b[0;34m=\u001b[0m \u001b[0mh_return\u001b[0m \u001b[0;34m+\u001b[0m \u001b[0mh_skip\u001b[0m\u001b[0;34m\u001b[0m\u001b[0;34m\u001b[0m\u001b[0m\n\u001b[1;32m     28\u001b[0m \u001b[0;34m\u001b[0m\u001b[0m\n\u001b[0;32m---> 29\u001b[0;31m         \u001b[0mh\u001b[0m \u001b[0;34m=\u001b[0m \u001b[0mself\u001b[0m\u001b[0;34m.\u001b[0m\u001b[0mlstm_list2\u001b[0m\u001b[0;34m(\u001b[0m\u001b[0mh\u001b[0m\u001b[0;34m)\u001b[0m\u001b[0;34m\u001b[0m\u001b[0;34m\u001b[0m\u001b[0m\n\u001b[0m\u001b[1;32m     30\u001b[0m         \u001b[0mh_skip\u001b[0m \u001b[0;34m=\u001b[0m \u001b[0mself\u001b[0m\u001b[0;34m.\u001b[0m\u001b[0mnext_skip2\u001b[0m\u001b[0;34m(\u001b[0m\u001b[0mh\u001b[0m\u001b[0;34m,\u001b[0m \u001b[0mtraining\u001b[0m\u001b[0;34m)\u001b[0m\u001b[0;34m\u001b[0m\u001b[0;34m\u001b[0m\u001b[0m\n\u001b[1;32m     31\u001b[0m         \u001b[0mh_skip\u001b[0m \u001b[0;34m=\u001b[0m \u001b[0mtf\u001b[0m\u001b[0;34m.\u001b[0m\u001b[0mexpand_dims\u001b[0m\u001b[0;34m(\u001b[0m\u001b[0mh_skip\u001b[0m\u001b[0;34m[\u001b[0m\u001b[0;34m:\u001b[0m\u001b[0;34m,\u001b[0m\u001b[0;34m:\u001b[0m\u001b[0;34m,\u001b[0m\u001b[0;34m:\u001b[0m\u001b[0;34m,\u001b[0m \u001b[0;34m-\u001b[0m\u001b[0;36m1\u001b[0m\u001b[0;34m]\u001b[0m\u001b[0;34m,\u001b[0m \u001b[0maxis\u001b[0m \u001b[0;34m=\u001b[0m \u001b[0;34m-\u001b[0m\u001b[0;36m1\u001b[0m\u001b[0;34m)\u001b[0m\u001b[0;34m\u001b[0m\u001b[0;34m\u001b[0m\u001b[0m\n",
            "\u001b[0;32m/usr/local/lib/python3.6/dist-packages/tensorflow/python/keras/engine/base_layer.py\u001b[0m in \u001b[0;36m__call__\u001b[0;34m(self, *args, **kwargs)\u001b[0m\n\u001b[1;32m    983\u001b[0m \u001b[0;34m\u001b[0m\u001b[0m\n\u001b[1;32m    984\u001b[0m         \u001b[0;32mwith\u001b[0m \u001b[0mops\u001b[0m\u001b[0;34m.\u001b[0m\u001b[0menable_auto_cast_variables\u001b[0m\u001b[0;34m(\u001b[0m\u001b[0mself\u001b[0m\u001b[0;34m.\u001b[0m\u001b[0m_compute_dtype_object\u001b[0m\u001b[0;34m)\u001b[0m\u001b[0;34m:\u001b[0m\u001b[0;34m\u001b[0m\u001b[0;34m\u001b[0m\u001b[0m\n\u001b[0;32m--> 985\u001b[0;31m           \u001b[0moutputs\u001b[0m \u001b[0;34m=\u001b[0m \u001b[0mcall_fn\u001b[0m\u001b[0;34m(\u001b[0m\u001b[0minputs\u001b[0m\u001b[0;34m,\u001b[0m \u001b[0;34m*\u001b[0m\u001b[0margs\u001b[0m\u001b[0;34m,\u001b[0m \u001b[0;34m**\u001b[0m\u001b[0mkwargs\u001b[0m\u001b[0;34m)\u001b[0m\u001b[0;34m\u001b[0m\u001b[0;34m\u001b[0m\u001b[0m\n\u001b[0m\u001b[1;32m    986\u001b[0m \u001b[0;34m\u001b[0m\u001b[0m\n\u001b[1;32m    987\u001b[0m         \u001b[0;32mif\u001b[0m \u001b[0mself\u001b[0m\u001b[0;34m.\u001b[0m\u001b[0m_activity_regularizer\u001b[0m\u001b[0;34m:\u001b[0m\u001b[0;34m\u001b[0m\u001b[0;34m\u001b[0m\u001b[0m\n",
            "\u001b[0;32m<ipython-input-20-86cf4f7a9636>\u001b[0m in \u001b[0;36mcall\u001b[0;34m(self, x, training, mask)\u001b[0m\n\u001b[1;32m     24\u001b[0m         \u001b[0mrot_270\u001b[0m \u001b[0;34m=\u001b[0m \u001b[0;34m(\u001b[0m\u001b[0mtf\u001b[0m\u001b[0;34m.\u001b[0m\u001b[0mexpand_dims\u001b[0m\u001b[0;34m(\u001b[0m\u001b[0mtf\u001b[0m\u001b[0;34m.\u001b[0m\u001b[0mimage\u001b[0m\u001b[0;34m.\u001b[0m\u001b[0mrot90\u001b[0m\u001b[0;34m(\u001b[0m\u001b[0mh\u001b[0m\u001b[0;34m,\u001b[0m \u001b[0mk\u001b[0m\u001b[0;34m=\u001b[0m\u001b[0;36m3\u001b[0m\u001b[0;34m)\u001b[0m\u001b[0;34m,\u001b[0m \u001b[0maxis\u001b[0m\u001b[0;34m=\u001b[0m\u001b[0;36m1\u001b[0m\u001b[0;34m)\u001b[0m\u001b[0;34m)\u001b[0m\u001b[0;34m[\u001b[0m\u001b[0;34m:\u001b[0m\u001b[0;34m,\u001b[0m\u001b[0;34m:\u001b[0m\u001b[0;34m,\u001b[0m\u001b[0;34m:\u001b[0m\u001b[0;34m,\u001b[0m\u001b[0;34m:\u001b[0m\u001b[0;34m,\u001b[0m\u001b[0;34m-\u001b[0m\u001b[0;36m1\u001b[0m\u001b[0;34m]\u001b[0m\u001b[0;34m\u001b[0m\u001b[0;34m\u001b[0m\u001b[0m\n\u001b[1;32m     25\u001b[0m \u001b[0;34m\u001b[0m\u001b[0m\n\u001b[0;32m---> 26\u001b[0;31m         \u001b[0mLSTM_0\u001b[0m \u001b[0;34m=\u001b[0m \u001b[0mtf\u001b[0m\u001b[0;34m.\u001b[0m\u001b[0mexpand_dims\u001b[0m\u001b[0;34m(\u001b[0m\u001b[0mself\u001b[0m\u001b[0;34m.\u001b[0m\u001b[0mconcat\u001b[0m\u001b[0;34m(\u001b[0m\u001b[0mrot_0\u001b[0m\u001b[0;34m)\u001b[0m\u001b[0;34m,\u001b[0m \u001b[0maxis\u001b[0m \u001b[0;34m=\u001b[0m \u001b[0;34m-\u001b[0m\u001b[0;36m1\u001b[0m\u001b[0;34m)\u001b[0m\u001b[0;34m\u001b[0m\u001b[0;34m\u001b[0m\u001b[0m\n\u001b[0m\u001b[1;32m     27\u001b[0m         \u001b[0mLSTM_90\u001b[0m \u001b[0;34m=\u001b[0m \u001b[0mtf\u001b[0m\u001b[0;34m.\u001b[0m\u001b[0mexpand_dims\u001b[0m\u001b[0;34m(\u001b[0m\u001b[0mself\u001b[0m\u001b[0;34m.\u001b[0m\u001b[0mconcat\u001b[0m\u001b[0;34m(\u001b[0m\u001b[0mrot_90\u001b[0m\u001b[0;34m)\u001b[0m\u001b[0;34m,\u001b[0m \u001b[0maxis\u001b[0m \u001b[0;34m=\u001b[0m \u001b[0;34m-\u001b[0m\u001b[0;36m1\u001b[0m\u001b[0;34m)\u001b[0m\u001b[0;34m\u001b[0m\u001b[0;34m\u001b[0m\u001b[0m\n\u001b[1;32m     28\u001b[0m         \u001b[0mLSTM_180\u001b[0m \u001b[0;34m=\u001b[0m \u001b[0mtf\u001b[0m\u001b[0;34m.\u001b[0m\u001b[0mexpand_dims\u001b[0m\u001b[0;34m(\u001b[0m\u001b[0mself\u001b[0m\u001b[0;34m.\u001b[0m\u001b[0mconcat\u001b[0m\u001b[0;34m(\u001b[0m\u001b[0mrot_180\u001b[0m\u001b[0;34m)\u001b[0m\u001b[0;34m,\u001b[0m \u001b[0maxis\u001b[0m \u001b[0;34m=\u001b[0m \u001b[0;34m-\u001b[0m\u001b[0;36m1\u001b[0m\u001b[0;34m)\u001b[0m\u001b[0;34m\u001b[0m\u001b[0;34m\u001b[0m\u001b[0m\n",
            "\u001b[0;32m<ipython-input-20-86cf4f7a9636>\u001b[0m in \u001b[0;36mconcat\u001b[0;34m(self, x)\u001b[0m\n\u001b[1;32m     11\u001b[0m             \u001b[0mflat\u001b[0m \u001b[0;34m=\u001b[0m \u001b[0mtf\u001b[0m\u001b[0;34m.\u001b[0m\u001b[0mexpand_dims\u001b[0m\u001b[0;34m(\u001b[0m\u001b[0mself\u001b[0m\u001b[0;34m.\u001b[0m\u001b[0mflatten\u001b[0m\u001b[0;34m(\u001b[0m\u001b[0mx\u001b[0m\u001b[0;34m[\u001b[0m\u001b[0;34m:\u001b[0m\u001b[0;34m,\u001b[0m\u001b[0;34m:\u001b[0m\u001b[0;34m,\u001b[0m\u001b[0;34m:\u001b[0m\u001b[0;34m,\u001b[0m\u001b[0mi\u001b[0m\u001b[0;34m]\u001b[0m\u001b[0;34m)\u001b[0m\u001b[0;34m,\u001b[0m \u001b[0maxis\u001b[0m \u001b[0;34m=\u001b[0m \u001b[0;36m1\u001b[0m\u001b[0;34m)\u001b[0m \u001b[0;31m# 4 1 135\u001b[0m\u001b[0;34m\u001b[0m\u001b[0;34m\u001b[0m\u001b[0m\n\u001b[1;32m     12\u001b[0m             \u001b[0minputs\u001b[0m \u001b[0;34m=\u001b[0m \u001b[0mtf\u001b[0m\u001b[0;34m.\u001b[0m\u001b[0mshape\u001b[0m\u001b[0;34m(\u001b[0m\u001b[0mx\u001b[0m\u001b[0;34m)\u001b[0m\u001b[0;34m[\u001b[0m\u001b[0;36m1\u001b[0m\u001b[0;34m]\u001b[0m \u001b[0;34m*\u001b[0m \u001b[0mtf\u001b[0m\u001b[0;34m.\u001b[0m\u001b[0mshape\u001b[0m\u001b[0;34m(\u001b[0m\u001b[0mx\u001b[0m\u001b[0;34m)\u001b[0m\u001b[0;34m[\u001b[0m\u001b[0;36m2\u001b[0m\u001b[0;34m]\u001b[0m\u001b[0;34m\u001b[0m\u001b[0;34m\u001b[0m\u001b[0m\n\u001b[0;32m---> 13\u001b[0;31m             \u001b[0mmini_LSTM\u001b[0m \u001b[0;34m=\u001b[0m \u001b[0mtf\u001b[0m\u001b[0;34m.\u001b[0m\u001b[0mexpand_dims\u001b[0m\u001b[0;34m(\u001b[0m\u001b[0mtf\u001b[0m\u001b[0;34m.\u001b[0m\u001b[0mkeras\u001b[0m\u001b[0;34m.\u001b[0m\u001b[0mlayers\u001b[0m\u001b[0;34m.\u001b[0m\u001b[0mLSTM\u001b[0m\u001b[0;34m(\u001b[0m\u001b[0minputs\u001b[0m\u001b[0;34m)\u001b[0m\u001b[0;34m(\u001b[0m\u001b[0mflat\u001b[0m\u001b[0;34m)\u001b[0m\u001b[0;34m,\u001b[0m \u001b[0;34m-\u001b[0m\u001b[0;36m1\u001b[0m\u001b[0;34m)\u001b[0m \u001b[0;31m# 4 135 1\u001b[0m\u001b[0;34m\u001b[0m\u001b[0;34m\u001b[0m\u001b[0m\n\u001b[0m\u001b[1;32m     14\u001b[0m             \u001b[0mconcat_list\u001b[0m\u001b[0;34m.\u001b[0m\u001b[0mappend\u001b[0m\u001b[0;34m(\u001b[0m\u001b[0mmini_LSTM\u001b[0m\u001b[0;34m)\u001b[0m\u001b[0;34m\u001b[0m\u001b[0;34m\u001b[0m\u001b[0m\n\u001b[1;32m     15\u001b[0m         \u001b[0mLSTM\u001b[0m \u001b[0;34m=\u001b[0m \u001b[0mtf\u001b[0m\u001b[0;34m.\u001b[0m\u001b[0mkeras\u001b[0m\u001b[0;34m.\u001b[0m\u001b[0mlayers\u001b[0m\u001b[0;34m.\u001b[0m\u001b[0mconcatenate\u001b[0m\u001b[0;34m(\u001b[0m\u001b[0mconcat_list\u001b[0m\u001b[0;34m,\u001b[0m \u001b[0maxis\u001b[0m \u001b[0;34m=\u001b[0m \u001b[0;34m-\u001b[0m\u001b[0;36m1\u001b[0m\u001b[0;34m)\u001b[0m \u001b[0;31m#4 135 135\u001b[0m\u001b[0;34m\u001b[0m\u001b[0;34m\u001b[0m\u001b[0m\n",
            "\u001b[0;32m/usr/local/lib/python3.6/dist-packages/tensorflow/python/keras/layers/recurrent.py\u001b[0m in \u001b[0;36m__call__\u001b[0;34m(self, inputs, initial_state, constants, **kwargs)\u001b[0m\n\u001b[1;32m    661\u001b[0m \u001b[0;34m\u001b[0m\u001b[0m\n\u001b[1;32m    662\u001b[0m     \u001b[0;32mif\u001b[0m \u001b[0minitial_state\u001b[0m \u001b[0;32mis\u001b[0m \u001b[0;32mNone\u001b[0m \u001b[0;32mand\u001b[0m \u001b[0mconstants\u001b[0m \u001b[0;32mis\u001b[0m \u001b[0;32mNone\u001b[0m\u001b[0;34m:\u001b[0m\u001b[0;34m\u001b[0m\u001b[0;34m\u001b[0m\u001b[0m\n\u001b[0;32m--> 663\u001b[0;31m       \u001b[0;32mreturn\u001b[0m \u001b[0msuper\u001b[0m\u001b[0;34m(\u001b[0m\u001b[0mRNN\u001b[0m\u001b[0;34m,\u001b[0m \u001b[0mself\u001b[0m\u001b[0;34m)\u001b[0m\u001b[0;34m.\u001b[0m\u001b[0m__call__\u001b[0m\u001b[0;34m(\u001b[0m\u001b[0minputs\u001b[0m\u001b[0;34m,\u001b[0m \u001b[0;34m**\u001b[0m\u001b[0mkwargs\u001b[0m\u001b[0;34m)\u001b[0m\u001b[0;34m\u001b[0m\u001b[0;34m\u001b[0m\u001b[0m\n\u001b[0m\u001b[1;32m    664\u001b[0m \u001b[0;34m\u001b[0m\u001b[0m\n\u001b[1;32m    665\u001b[0m     \u001b[0;31m# If any of `initial_state` or `constants` are specified and are Keras\u001b[0m\u001b[0;34m\u001b[0m\u001b[0;34m\u001b[0m\u001b[0;34m\u001b[0m\u001b[0m\n",
            "\u001b[0;32m/usr/local/lib/python3.6/dist-packages/tensorflow/python/keras/engine/base_layer.py\u001b[0m in \u001b[0;36m__call__\u001b[0;34m(self, *args, **kwargs)\u001b[0m\n\u001b[1;32m    983\u001b[0m \u001b[0;34m\u001b[0m\u001b[0m\n\u001b[1;32m    984\u001b[0m         \u001b[0;32mwith\u001b[0m \u001b[0mops\u001b[0m\u001b[0;34m.\u001b[0m\u001b[0menable_auto_cast_variables\u001b[0m\u001b[0;34m(\u001b[0m\u001b[0mself\u001b[0m\u001b[0;34m.\u001b[0m\u001b[0m_compute_dtype_object\u001b[0m\u001b[0;34m)\u001b[0m\u001b[0;34m:\u001b[0m\u001b[0;34m\u001b[0m\u001b[0;34m\u001b[0m\u001b[0m\n\u001b[0;32m--> 985\u001b[0;31m           \u001b[0moutputs\u001b[0m \u001b[0;34m=\u001b[0m \u001b[0mcall_fn\u001b[0m\u001b[0;34m(\u001b[0m\u001b[0minputs\u001b[0m\u001b[0;34m,\u001b[0m \u001b[0;34m*\u001b[0m\u001b[0margs\u001b[0m\u001b[0;34m,\u001b[0m \u001b[0;34m**\u001b[0m\u001b[0mkwargs\u001b[0m\u001b[0;34m)\u001b[0m\u001b[0;34m\u001b[0m\u001b[0;34m\u001b[0m\u001b[0m\n\u001b[0m\u001b[1;32m    986\u001b[0m \u001b[0;34m\u001b[0m\u001b[0m\n\u001b[1;32m    987\u001b[0m         \u001b[0;32mif\u001b[0m \u001b[0mself\u001b[0m\u001b[0;34m.\u001b[0m\u001b[0m_activity_regularizer\u001b[0m\u001b[0;34m:\u001b[0m\u001b[0;34m\u001b[0m\u001b[0;34m\u001b[0m\u001b[0m\n",
            "\u001b[0;32m/usr/local/lib/python3.6/dist-packages/tensorflow/python/keras/layers/recurrent_v2.py\u001b[0m in \u001b[0;36mcall\u001b[0;34m(self, inputs, mask, training, initial_state)\u001b[0m\n\u001b[1;32m   1178\u001b[0m         \u001b[0;32melse\u001b[0m\u001b[0;34m:\u001b[0m\u001b[0;34m\u001b[0m\u001b[0;34m\u001b[0m\u001b[0m\n\u001b[1;32m   1179\u001b[0m           last_output, outputs, new_h, new_c, runtime = standard_lstm(\n\u001b[0;32m-> 1180\u001b[0;31m               **normal_lstm_kwargs)\n\u001b[0m\u001b[1;32m   1181\u001b[0m       \u001b[0;32melse\u001b[0m\u001b[0;34m:\u001b[0m\u001b[0;34m\u001b[0m\u001b[0;34m\u001b[0m\u001b[0m\n\u001b[1;32m   1182\u001b[0m         (last_output, outputs, new_h, new_c,\n",
            "\u001b[0;32m/usr/local/lib/python3.6/dist-packages/tensorflow/python/keras/layers/recurrent_v2.py\u001b[0m in \u001b[0;36mstandard_lstm\u001b[0;34m(inputs, init_h, init_c, kernel, recurrent_kernel, bias, mask, time_major, go_backwards, sequence_lengths, zero_output_for_mask)\u001b[0m\n\u001b[1;32m   1313\u001b[0m       input_length=(sequence_lengths\n\u001b[1;32m   1314\u001b[0m                     if sequence_lengths is not None else timesteps),\n\u001b[0;32m-> 1315\u001b[0;31m       zero_output_for_mask=zero_output_for_mask)\n\u001b[0m\u001b[1;32m   1316\u001b[0m   return (last_output, outputs, new_states[0], new_states[1],\n\u001b[1;32m   1317\u001b[0m           _runtime(_RUNTIME_CPU))\n",
            "\u001b[0;32m/usr/local/lib/python3.6/dist-packages/tensorflow/python/util/dispatch.py\u001b[0m in \u001b[0;36mwrapper\u001b[0;34m(*args, **kwargs)\u001b[0m\n\u001b[1;32m    199\u001b[0m     \u001b[0;34m\"\"\"Call target, and fall back on dispatchers if there is a TypeError.\"\"\"\u001b[0m\u001b[0;34m\u001b[0m\u001b[0;34m\u001b[0m\u001b[0m\n\u001b[1;32m    200\u001b[0m     \u001b[0;32mtry\u001b[0m\u001b[0;34m:\u001b[0m\u001b[0;34m\u001b[0m\u001b[0;34m\u001b[0m\u001b[0m\n\u001b[0;32m--> 201\u001b[0;31m       \u001b[0;32mreturn\u001b[0m \u001b[0mtarget\u001b[0m\u001b[0;34m(\u001b[0m\u001b[0;34m*\u001b[0m\u001b[0margs\u001b[0m\u001b[0;34m,\u001b[0m \u001b[0;34m**\u001b[0m\u001b[0mkwargs\u001b[0m\u001b[0;34m)\u001b[0m\u001b[0;34m\u001b[0m\u001b[0;34m\u001b[0m\u001b[0m\n\u001b[0m\u001b[1;32m    202\u001b[0m     \u001b[0;32mexcept\u001b[0m \u001b[0;34m(\u001b[0m\u001b[0mTypeError\u001b[0m\u001b[0;34m,\u001b[0m \u001b[0mValueError\u001b[0m\u001b[0;34m)\u001b[0m\u001b[0;34m:\u001b[0m\u001b[0;34m\u001b[0m\u001b[0;34m\u001b[0m\u001b[0m\n\u001b[1;32m    203\u001b[0m       \u001b[0;31m# Note: convert_to_eager_tensor currently raises a ValueError, not a\u001b[0m\u001b[0;34m\u001b[0m\u001b[0;34m\u001b[0m\u001b[0;34m\u001b[0m\u001b[0m\n",
            "\u001b[0;32m/usr/local/lib/python3.6/dist-packages/tensorflow/python/keras/backend.py\u001b[0m in \u001b[0;36mrnn\u001b[0;34m(step_function, inputs, initial_states, go_backwards, mask, constants, unroll, input_length, time_major, zero_output_for_mask)\u001b[0m\n\u001b[1;32m   4359\u001b[0m           \u001b[0mbody\u001b[0m\u001b[0;34m=\u001b[0m\u001b[0m_step\u001b[0m\u001b[0;34m,\u001b[0m\u001b[0;34m\u001b[0m\u001b[0;34m\u001b[0m\u001b[0m\n\u001b[1;32m   4360\u001b[0m           \u001b[0mloop_vars\u001b[0m\u001b[0;34m=\u001b[0m\u001b[0;34m(\u001b[0m\u001b[0mtime\u001b[0m\u001b[0;34m,\u001b[0m \u001b[0moutput_ta\u001b[0m\u001b[0;34m)\u001b[0m \u001b[0;34m+\u001b[0m \u001b[0mstates\u001b[0m\u001b[0;34m,\u001b[0m\u001b[0;34m\u001b[0m\u001b[0;34m\u001b[0m\u001b[0m\n\u001b[0;32m-> 4361\u001b[0;31m           **while_loop_kwargs)\n\u001b[0m\u001b[1;32m   4362\u001b[0m       \u001b[0mnew_states\u001b[0m \u001b[0;34m=\u001b[0m \u001b[0mfinal_outputs\u001b[0m\u001b[0;34m[\u001b[0m\u001b[0;36m2\u001b[0m\u001b[0;34m:\u001b[0m\u001b[0;34m]\u001b[0m\u001b[0;34m\u001b[0m\u001b[0;34m\u001b[0m\u001b[0m\n\u001b[1;32m   4363\u001b[0m \u001b[0;34m\u001b[0m\u001b[0m\n",
            "\u001b[0;32m/usr/local/lib/python3.6/dist-packages/tensorflow/python/ops/control_flow_ops.py\u001b[0m in \u001b[0;36mwhile_loop\u001b[0;34m(cond, body, loop_vars, shape_invariants, parallel_iterations, back_prop, swap_memory, name, maximum_iterations, return_same_structure)\u001b[0m\n\u001b[1;32m   2731\u001b[0m \u001b[0;34m\u001b[0m\u001b[0m\n\u001b[1;32m   2732\u001b[0m       loop_var_structure = nest.map_structure(type_spec.type_spec_from_value,\n\u001b[0;32m-> 2733\u001b[0;31m                                               list(loop_vars))\n\u001b[0m\u001b[1;32m   2734\u001b[0m       \u001b[0;32mwhile\u001b[0m \u001b[0mcond\u001b[0m\u001b[0;34m(\u001b[0m\u001b[0;34m*\u001b[0m\u001b[0mloop_vars\u001b[0m\u001b[0;34m)\u001b[0m\u001b[0;34m:\u001b[0m\u001b[0;34m\u001b[0m\u001b[0;34m\u001b[0m\u001b[0m\n\u001b[1;32m   2735\u001b[0m         \u001b[0mloop_vars\u001b[0m \u001b[0;34m=\u001b[0m \u001b[0mbody\u001b[0m\u001b[0;34m(\u001b[0m\u001b[0;34m*\u001b[0m\u001b[0mloop_vars\u001b[0m\u001b[0;34m)\u001b[0m\u001b[0;34m\u001b[0m\u001b[0;34m\u001b[0m\u001b[0m\n",
            "\u001b[0;32m/usr/local/lib/python3.6/dist-packages/tensorflow/python/util/nest.py\u001b[0m in \u001b[0;36mmap_structure\u001b[0;34m(func, *structure, **kwargs)\u001b[0m\n\u001b[1;32m    634\u001b[0m   return pack_sequence_as(\n\u001b[1;32m    635\u001b[0m       \u001b[0mstructure\u001b[0m\u001b[0;34m[\u001b[0m\u001b[0;36m0\u001b[0m\u001b[0;34m]\u001b[0m\u001b[0;34m,\u001b[0m \u001b[0;34m[\u001b[0m\u001b[0mfunc\u001b[0m\u001b[0;34m(\u001b[0m\u001b[0;34m*\u001b[0m\u001b[0mx\u001b[0m\u001b[0;34m)\u001b[0m \u001b[0;32mfor\u001b[0m \u001b[0mx\u001b[0m \u001b[0;32min\u001b[0m \u001b[0mentries\u001b[0m\u001b[0;34m]\u001b[0m\u001b[0;34m,\u001b[0m\u001b[0;34m\u001b[0m\u001b[0;34m\u001b[0m\u001b[0m\n\u001b[0;32m--> 636\u001b[0;31m       expand_composites=expand_composites)\n\u001b[0m\u001b[1;32m    637\u001b[0m \u001b[0;34m\u001b[0m\u001b[0m\n\u001b[1;32m    638\u001b[0m \u001b[0;34m\u001b[0m\u001b[0m\n",
            "\u001b[0;32m/usr/local/lib/python3.6/dist-packages/tensorflow/python/util/nest.py\u001b[0m in \u001b[0;36mpack_sequence_as\u001b[0;34m(structure, flat_sequence, expand_composites)\u001b[0m\n\u001b[1;32m    568\u001b[0m     \u001b[0mTypeError\u001b[0m\u001b[0;34m:\u001b[0m\u001b[0;31m \u001b[0m\u001b[0;31m`\u001b[0m\u001b[0mstructure\u001b[0m\u001b[0;31m`\u001b[0m \u001b[0;32mis\u001b[0m \u001b[0;32mor\u001b[0m \u001b[0mcontains\u001b[0m \u001b[0ma\u001b[0m \u001b[0mdict\u001b[0m \u001b[0;32mwith\u001b[0m \u001b[0mnon\u001b[0m\u001b[0;34m-\u001b[0m\u001b[0msortable\u001b[0m \u001b[0mkeys\u001b[0m\u001b[0;34m.\u001b[0m\u001b[0;34m\u001b[0m\u001b[0;34m\u001b[0m\u001b[0m\n\u001b[1;32m    569\u001b[0m   \"\"\"\n\u001b[0;32m--> 570\u001b[0;31m   \u001b[0;32mreturn\u001b[0m \u001b[0m_pack_sequence_as\u001b[0m\u001b[0;34m(\u001b[0m\u001b[0mstructure\u001b[0m\u001b[0;34m,\u001b[0m \u001b[0mflat_sequence\u001b[0m\u001b[0;34m,\u001b[0m \u001b[0mexpand_composites\u001b[0m\u001b[0;34m)\u001b[0m\u001b[0;34m\u001b[0m\u001b[0;34m\u001b[0m\u001b[0m\n\u001b[0m\u001b[1;32m    571\u001b[0m \u001b[0;34m\u001b[0m\u001b[0m\n\u001b[1;32m    572\u001b[0m \u001b[0;34m\u001b[0m\u001b[0m\n",
            "\u001b[0;32m/usr/local/lib/python3.6/dist-packages/tensorflow/python/util/nest.py\u001b[0m in \u001b[0;36m_pack_sequence_as\u001b[0;34m(structure, flat_sequence, expand_composites, sequence_fn)\u001b[0m\n\u001b[1;32m    521\u001b[0m   \u001b[0;32mtry\u001b[0m\u001b[0;34m:\u001b[0m\u001b[0;34m\u001b[0m\u001b[0;34m\u001b[0m\u001b[0m\n\u001b[1;32m    522\u001b[0m     final_index, packed = _packed_nest_with_indices(structure, flat_sequence,\n\u001b[0;32m--> 523\u001b[0;31m                                                     0, is_seq, sequence_fn)\n\u001b[0m\u001b[1;32m    524\u001b[0m     \u001b[0;32mif\u001b[0m \u001b[0mfinal_index\u001b[0m \u001b[0;34m<\u001b[0m \u001b[0mlen\u001b[0m\u001b[0;34m(\u001b[0m\u001b[0mflat_sequence\u001b[0m\u001b[0;34m)\u001b[0m\u001b[0;34m:\u001b[0m\u001b[0;34m\u001b[0m\u001b[0;34m\u001b[0m\u001b[0m\n\u001b[1;32m    525\u001b[0m       \u001b[0;32mraise\u001b[0m \u001b[0mIndexError\u001b[0m\u001b[0;34m\u001b[0m\u001b[0;34m\u001b[0m\u001b[0m\n",
            "\u001b[0;32m/usr/local/lib/python3.6/dist-packages/tensorflow/python/util/nest.py\u001b[0m in \u001b[0;36m_packed_nest_with_indices\u001b[0;34m(structure, flat, index, is_seq, sequence_fn)\u001b[0m\n\u001b[1;32m    486\u001b[0m       new_index, child = _packed_nest_with_indices(s, flat, index, is_seq,\n\u001b[1;32m    487\u001b[0m                                                    sequence_fn)\n\u001b[0;32m--> 488\u001b[0;31m       \u001b[0mpacked\u001b[0m\u001b[0;34m.\u001b[0m\u001b[0mappend\u001b[0m\u001b[0;34m(\u001b[0m\u001b[0msequence_fn\u001b[0m\u001b[0;34m(\u001b[0m\u001b[0ms\u001b[0m\u001b[0;34m,\u001b[0m \u001b[0mchild\u001b[0m\u001b[0;34m)\u001b[0m\u001b[0;34m)\u001b[0m\u001b[0;34m\u001b[0m\u001b[0;34m\u001b[0m\u001b[0m\n\u001b[0m\u001b[1;32m    489\u001b[0m       \u001b[0mindex\u001b[0m \u001b[0;34m=\u001b[0m \u001b[0mnew_index\u001b[0m\u001b[0;34m\u001b[0m\u001b[0;34m\u001b[0m\u001b[0m\n\u001b[1;32m    490\u001b[0m     \u001b[0;32melse\u001b[0m\u001b[0;34m:\u001b[0m\u001b[0;34m\u001b[0m\u001b[0;34m\u001b[0m\u001b[0m\n",
            "\u001b[0;32m/usr/local/lib/python3.6/dist-packages/tensorflow/python/util/nest.py\u001b[0m in \u001b[0;36m_sequence_like\u001b[0;34m(instance, args)\u001b[0m\n\u001b[1;32m    127\u001b[0m \u001b[0;34m\u001b[0m\u001b[0m\n\u001b[1;32m    128\u001b[0m \u001b[0;34m\u001b[0m\u001b[0m\n\u001b[0;32m--> 129\u001b[0;31m \u001b[0;32mdef\u001b[0m \u001b[0m_sequence_like\u001b[0m\u001b[0;34m(\u001b[0m\u001b[0minstance\u001b[0m\u001b[0;34m,\u001b[0m \u001b[0margs\u001b[0m\u001b[0;34m)\u001b[0m\u001b[0;34m:\u001b[0m\u001b[0;34m\u001b[0m\u001b[0;34m\u001b[0m\u001b[0m\n\u001b[0m\u001b[1;32m    130\u001b[0m   \"\"\"Converts the sequence `args` to the same type as `instance`.\n\u001b[1;32m    131\u001b[0m \u001b[0;34m\u001b[0m\u001b[0m\n",
            "\u001b[0;31mKeyboardInterrupt\u001b[0m: "
          ]
        }
      ]
    },
    {
      "cell_type": "code",
      "metadata": {
        "id": "fMofXBpZggkb"
      },
      "source": [
        "for noise, clean in test_data_R:\n",
        "    de_R = Model_R(noise)\n",
        "    break\n",
        "\n",
        "for noise, clean in test_data_G:\n",
        "    de_G = Model_G(noise)\n",
        "    break\n",
        "\n",
        "for noise, clean in test_data_B:\n",
        "    de_B = Model_B(noise)\n",
        "    break"
      ],
      "execution_count": null,
      "outputs": []
    },
    {
      "cell_type": "code",
      "metadata": {
        "id": "kW0rz1OHsCB_"
      },
      "source": [
        "ns, cl = next(iter(test_data_R))\n",
        "ng, cg = next(iter(test_data_G))\n",
        "nb, cb = next(iter(test_data_B))\n",
        "im = tf.stack([ns[3], ng[3], nb[3]], axis = 2)\n",
        "cl_im = tf.stack([cl[3], cg[3], cb[3]], axis = 2)\n",
        "img = np.concatenate([im, cl_im], axis = 1)\n",
        "plt.imshow(img)"
      ],
      "execution_count": null,
      "outputs": []
    },
    {
      "cell_type": "code",
      "metadata": {
        "id": "5y_p2_EUhAX8"
      },
      "source": [
        "pic = np.stack([de_R[:,:,:, 0], de_G[:,:,:, 0], de_B[:,:,:, 0]], axis = 3)\n",
        "np.max(pic[0])"
      ],
      "execution_count": null,
      "outputs": []
    },
    {
      "cell_type": "code",
      "metadata": {
        "id": "sx7o775w5sP0"
      },
      "source": [
        "plt.figure(figsize = (10,10))\n",
        "plt.imshow(np.concatenate([im, cl_im, pic[3]], axis = 1))"
      ],
      "execution_count": null,
      "outputs": []
    },
    {
      "cell_type": "code",
      "metadata": {
        "id": "c2E__lym04X-"
      },
      "source": [
        "print('Complete')"
      ],
      "execution_count": null,
      "outputs": []
    },
    {
      "cell_type": "code",
      "metadata": {
        "id": "X_AFAdtMb-9_"
      },
      "source": [
        "#Model_R.save_weights('/content/drive/My Drive/Colab/my_checkpoint/002/Red/')\n",
        "#Model_G.save_weights('/content/drive/My Drive/Colab/my_checkpoint/002/Green/')\n",
        "#Model_B.save_weights('/content/drive/My Drive/Colab/my_checkpoint/002/Blue/')"
      ],
      "execution_count": null,
      "outputs": []
    },
    {
      "cell_type": "code",
      "metadata": {
        "id": "gZqU3cf9crLB"
      },
      "source": [
        ""
      ],
      "execution_count": null,
      "outputs": []
    }
  ]
}